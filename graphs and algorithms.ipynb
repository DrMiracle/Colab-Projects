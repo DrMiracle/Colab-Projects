{
  "nbformat": 4,
  "nbformat_minor": 0,
  "metadata": {
    "colab": {
      "provenance": [],
      "include_colab_link": true
    },
    "kernelspec": {
      "name": "python3",
      "display_name": "Python 3"
    },
    "language_info": {
      "name": "python"
    }
  },
  "cells": [
    {
      "cell_type": "markdown",
      "metadata": {
        "id": "view-in-github",
        "colab_type": "text"
      },
      "source": [
        "<a href=\"https://colab.research.google.com/github/DrMiracle/Colab-Projects/blob/main/graphs%20and%20algorithms.ipynb\" target=\"_parent\"><img src=\"https://colab.research.google.com/assets/colab-badge.svg\" alt=\"Open In Colab\"/></a>"
      ]
    },
    {
      "cell_type": "code",
      "execution_count": null,
      "metadata": {
        "id": "3uhEc5mNkDmT"
      },
      "outputs": [],
      "source": [
        "from matplotlib import pyplot as plt\n",
        "import random\n",
        "import heapq\n",
        "import networkx as nx\n",
        "import numpy as np"
      ]
    },
    {
      "cell_type": "code",
      "source": [
        "def plot_connected_points(point1, point2):\n",
        "  plt.plot([point1.x,point2.x], [point1.y, point2.y], 'k-')"
      ],
      "metadata": {
        "id": "JowdgtMkovZm"
      },
      "execution_count": null,
      "outputs": []
    },
    {
      "cell_type": "code",
      "source": [
        "class Point:\n",
        "  def __init__(self, x, y, refueling = False, adjasent_points=[]):\n",
        "    self.x = x\n",
        "    self.y = y\n",
        "    self.refueling = refueling\n",
        "    self.adjasent_points=adjasent_points\n",
        "\n",
        "  def __str__(self):\n",
        "    return \"({}, {}) refueling: {}, neighbours: {}\".format(self.x, self.y, self.refueling, len(self.adjasent_points))\n",
        "\n",
        "  def __lt__(self, p):\n",
        "    return True"
      ],
      "metadata": {
        "id": "CHTAGfq1k6zg"
      },
      "execution_count": null,
      "outputs": []
    },
    {
      "cell_type": "code",
      "source": [
        "class Random_Graph:\n",
        "  def __init__(self, n_vertices, prob, ref_prob, adjasent_matrix=[],points=[]):\n",
        "    self.n_vertices = n_vertices\n",
        "    self.prob = prob\n",
        "    self.ref_prob = ref_prob\n",
        "    self.adjasent_matrix = np.random.choice(a = (0, 1), size = (n_vertices,n_vertices), p = (1-prob, prob))\n",
        "    self.adjasent_matrix = self.adjasent_matrix*np.abs((np.tri(n_vertices, n_vertices).T-1))\n",
        "    self.adjasent_matrix = self.adjasent_matrix + self.adjasent_matrix.T\n",
        "    self.create_random_points()\n",
        "    self.connect_vertices()\n",
        "\n",
        "  def create_random_points(self):\n",
        "    points = []\n",
        "    ref_vec = np.random.choice(a = (False, True), size = (self.n_vertices,), p = (1-self.ref_prob, self.ref_prob))\n",
        "    for i in range(self.n_vertices):\n",
        "      while True:\n",
        "        point = Point(x=random.randint(1,self.n_vertices), y=random.randint(1,self.n_vertices), refueling = ref_vec[i], adjasent_points=[])\n",
        "        if(point.x, point.y) in [(point.x, point.y) for point in points]:\n",
        "          continue\n",
        "        else:\n",
        "          points.append(point)\n",
        "          break\n",
        "    self.points=points\n",
        "\n",
        "  def connect_vertices(self):\n",
        "    for i in range(self.n_vertices):\n",
        "      point = self.points[i]\n",
        "      for j in range(self.n_vertices):\n",
        "        if self.adjasent_matrix[i][j] == 1:\n",
        "          point.adjasent_points.append(self.points[j])"
      ],
      "metadata": {
        "id": "kmyXV5qc6I7H"
      },
      "execution_count": null,
      "outputs": []
    },
    {
      "cell_type": "code",
      "source": [
        "graph = Random_Graph(n_vertices=10, prob=0.1, ref_prob=0.1)"
      ],
      "metadata": {
        "id": "UycWUURT1Y2c"
      },
      "execution_count": null,
      "outputs": []
    },
    {
      "cell_type": "code",
      "source": [
        "plot_points = []\n",
        "for point in graph.points:\n",
        "  for adjasent_point in point.adjasent_points:\n",
        "    coordinate = ((point.x,adjasent_point.x), (point.y, adjasent_point.y))\n",
        "    if coordinate not in plot_points:\n",
        "      plot_points.append(coordinate)"
      ],
      "metadata": {
        "id": "_ckEf6OK-hHl"
      },
      "execution_count": null,
      "outputs": []
    },
    {
      "cell_type": "code",
      "source": [
        "for point_pair in plot_points:\n",
        "  plt.plot([point_pair[0][0],point_pair[0][1]], [point_pair[1][0],point_pair[1][1]], 'k-')\n",
        "for point in graph.points:\n",
        "  if point.refueling:\n",
        "    plt.plot(point.x, point.y, \"bo\")\n",
        "  else:\n",
        "    plt.plot(point.x, point.y, \"ro\")"
      ],
      "metadata": {
        "id": "PVy_Ksc66zsi",
        "colab": {
          "base_uri": "https://localhost:8080/",
          "height": 265
        },
        "outputId": "6bca53c7-1e87-4179-d3aa-0859a8d5a65e"
      },
      "execution_count": null,
      "outputs": [
        {
          "output_type": "display_data",
          "data": {
            "text/plain": [
              "<Figure size 432x288 with 1 Axes>"
            ],
            "image/png": "[encoded data removed]"
          },
          "metadata": {
            "needs_background": "light"
          }
        }
      ]
    },
    {
      "cell_type": "code",
      "source": [
        "def euclidean_distance(p1, p2):\n",
        "  return np.sqrt((p1.x-p2.x)**2 + (p1.y-p2.y)**2)\n",
        "\n",
        "def algorithm_a_star(graph, start, goal):\n",
        "  frontier = []\n",
        "  heapq.heappush(frontier, (0, start))\n",
        "  came_from = dict()\n",
        "  cost_so_far = dict()\n",
        "  came_from[start] = None\n",
        "  cost_so_far[start] = 0\n",
        "\n",
        "  while len(frontier):\n",
        "    _,current = heapq.heappop(frontier)\n",
        "\n",
        "    if current == goal:\n",
        "      return True, cost_so_far[current], came_from\n",
        "\n",
        "    for next in current.adjasent_points:\n",
        "      new_cost = cost_so_far[current] + euclidean_distance(current, next)\n",
        "      if next not in cost_so_far or new_cost < cost_so_far[next]:\n",
        "        cost_so_far[next] = new_cost\n",
        "        priority = new_cost + euclidean_distance(goal, next)\n",
        "        heapq.heappush(frontier, (priority, next))\n",
        "        came_from[next] = current\n",
        "  return False, \"no path\", came_from\n"
      ],
      "metadata": {
        "id": "Mu43ltEmsA38"
      },
      "execution_count": null,
      "outputs": []
    },
    {
      "cell_type": "code",
      "source": [
        "def algorithm_with_rejection(graph, start, goal, L):\n",
        "  frontier = []\n",
        "  heapq.heappush(frontier, (0, start, L))\n",
        "  came_from = dict()\n",
        "  cost_so_far = dict()\n",
        "  fuel_in = dict()\n",
        "  came_from[start] = None\n",
        "  cost_so_far[start] = 0\n",
        "\n",
        "  while len(frontier):\n",
        "    _,current,l = heapq.heappop(frontier)\n",
        "\n",
        "    if current == goal:\n",
        "      return True, cost_so_far[current], came_from, fuel_in\n",
        "\n",
        "    for next in current.adjasent_points:\n",
        "      new_cost = cost_so_far[current] + euclidean_distance(current, next)\n",
        "      if l > euclidean_distance(current, next):\n",
        "        if next not in cost_so_far or new_cost < cost_so_far[next]:\n",
        "          cost_so_far[next] = new_cost\n",
        "          fuel_in[next] = l-euclidean_distance(current, next)\n",
        "          priority = new_cost + euclidean_distance(goal, next)\n",
        "          if next.refueling:\n",
        "            heapq.heappush(frontier, (priority, next, L))\n",
        "          else:\n",
        "            heapq.heappush(frontier, (priority, next, l-euclidean_distance(current, next)))\n",
        "          came_from[next] = current\n",
        "  return False, \"no path\", came_from, fuel_in"
      ],
      "metadata": {
        "id": "7adkHWqXR5WF"
      },
      "execution_count": null,
      "outputs": []
    },
    {
      "cell_type": "code",
      "source": [
        "def combined_algorithm(graph, start, goal, L, func_u):\n",
        "  frontier = []\n",
        "  heapq.heappush(frontier, (0, start, L))\n",
        "  came_from = dict()\n",
        "  cost_so_far = dict()\n",
        "  fuel_in = dict()\n",
        "  came_from[start] = None\n",
        "  cost_so_far[start] = 0\n",
        "\n",
        "  while len(frontier):\n",
        "    _,current,l = heapq.heappop(frontier)\n",
        "\n",
        "    if current == goal:\n",
        "      return True, cost_so_far[current], came_from, fuel_in\n",
        "\n",
        "    for next in current.adjasent_points:\n",
        "      new_cost = cost_so_far[current] + euclidean_distance(current, next)\n",
        "      if l > euclidean_distance(current, next):\n",
        "        if next not in cost_so_far or new_cost < cost_so_far[next]:\n",
        "          cost_so_far[next] = new_cost\n",
        "          fuel_in[next] = l-euclidean_distance(current, next)\n",
        "          priority = (new_cost + euclidean_distance(goal, next))/func_u(l-euclidean_distance(current, next))\n",
        "          if next.refueling:\n",
        "            heapq.heappush(frontier, (priority, next, L))\n",
        "          else:\n",
        "            heapq.heappush(frontier, (priority, next, l-euclidean_distance(current, next)))\n",
        "          came_from[next] = current\n",
        "  return False, \"no path\", came_from, fuel_in"
      ],
      "metadata": {
        "id": "35bqeHvVAp2y"
      },
      "execution_count": null,
      "outputs": []
    },
    {
      "cell_type": "code",
      "source": [
        "find, cost, path = algorithm_a_star(graph, graph.points[0], graph.points[1])\n",
        "if find:\n",
        "  print(cost)\n",
        "\n",
        "  c = graph.points[1]\n",
        "  while c is not None:\n",
        "    if path[c] is not None:\n",
        "      print(\"Point: {}, Distance: {}\".format(c, euclidean_distance(c, path[c])))\n",
        "    else:\n",
        "      print(\"Point: {}\".format(c))\n",
        "    c = path[c]\n",
        "else:\n",
        "  print(cost)\n",
        ""
      ],
      "metadata": {
        "colab": {
          "base_uri": "https://localhost:8080/"
        },
        "id": "uYFP5KyUJqjW",
        "outputId": "05f8d034-4939-4dc3-eb65-fad2162c2542"
      },
      "execution_count": null,
      "outputs": [
        {
          "output_type": "stream",
          "name": "stdout",
          "text": [
            "no path\n"
          ]
        }
      ]
    },
    {
      "cell_type": "code",
      "source": [
        "from timeit import default_timer as timer\n",
        "\n",
        "def func_u(l):\n",
        "  return np.maximum(0.0001, float(l))\n",
        "\n",
        "graph = Random_Graph(n_vertices=1000, prob=0.3, ref_prob=0.3)\n",
        "\n",
        "start = graph.points[0]\n",
        "end = graph.points[1]\n",
        "print(start, end)\n",
        "start.refueling = True\n",
        "end.refueling = True\n",
        "\n",
        "st = timer()\n",
        "find, cost, path, fuel = combined_algorithm(graph, start, end, 100, func_u)\n",
        "et = timer()\n",
        "print(et-st)\n",
        "\n",
        "if find:\n",
        "  print(\"Distance: {}\".format(cost))\n",
        "  c = end\n",
        "  while c is not None:\n",
        "    if path[c] is not None:\n",
        "      print(\"Point: {}, Distance: {}, Fuel: {}\".format(c, euclidean_distance(c, path[c]), fuel[c]))\n",
        "    else:\n",
        "      print(\"Point: {}\".format(c))\n",
        "    c = path[c]\n",
        "else:\n",
        "  print(cost)\n",
        "\n",
        "st = timer()\n",
        "find, cost, path, fuel = algorithm_with_rejection(graph, start, end, 100)\n",
        "et = timer()\n",
        "print(et-st)\n",
        "\n",
        "if find:\n",
        "  print(\"Distance: {}\".format(cost))\n",
        "  c = end\n",
        "  while c is not None:\n",
        "    if path[c] is not None:\n",
        "      print(\"Point: {}, Distance: {}, Fuel: {}\".format(c, euclidean_distance(c, path[c]), fuel[c]))\n",
        "    else:\n",
        "      print(\"Point: {}\".format(c))\n",
        "    c = path[c]\n",
        "else:\n",
        "  print(cost)\n"
      ],
      "metadata": {
        "colab": {
          "base_uri": "https://localhost:8080/"
        },
        "id": "tvpDTnqp18_S",
        "outputId": "b8c40740-2af3-478f-88b7-6bad4a2e41ac"
      },
      "execution_count": null,
      "outputs": [
        {
          "output_type": "stream",
          "name": "stdout",
          "text": [
            "(503, 703) refueling: True, neighbours: 290 (699, 350) refueling: False, neighbours: 296\n",
            "2.4129615199999535\n",
            "Distance: 614.1873294099836\n",
            "Point: (699, 350) refueling: True, neighbours: 296, Distance: 43.829214001622255, Fuel: 0.8083438557121099\n",
            "Point: (663, 325) refueling: False, neighbours: 303, Distance: 55.362442142665635, Fuel: 44.637557857334365\n",
            "Point: (679, 378) refueling: True, neighbours: 306, Distance: 49.76946855251722, Fuel: 11.179283067949513\n",
            "Point: (660, 424) refueling: False, neighbours: 301, Distance: 39.05124837953327, Fuel: 60.94875162046673\n",
            "Point: (630, 449) refueling: True, neighbours: 310, Distance: 62.433965115151864, Fuel: 37.566034884848136\n",
            "Point: (577, 482) refueling: True, neighbours: 304, Distance: 61.61168720299745, Fuel: 38.38831279700255\n",
            "Point: (517, 496) refueling: True, neighbours: 279, Distance: 33.94112549695428, Fuel: 66.05887450304573\n",
            "Point: (493, 520) refueling: True, neighbours: 264, Distance: 31.575306807693888, Fuel: 68.42469319230611\n",
            "Point: (499, 551) refueling: True, neighbours: 294, Distance: 68.70953354520753, Fuel: 31.290466454792465\n",
            "Point: (524, 615) refueling: True, neighbours: 284, Distance: 76.2954782408499, Fuel: 23.704521759150097\n",
            "Point: (449, 629) refueling: True, neighbours: 264, Distance: 91.60785992479029, Fuel: 8.39214007520971\n",
            "Point: (503, 703) refueling: True, neighbours: 290\n",
            "0.18171657200002755\n",
            "Distance: 614.1873294099836\n",
            "Point: (699, 350) refueling: True, neighbours: 296, Distance: 43.829214001622255, Fuel: 0.8083438557121099\n",
            "Point: (663, 325) refueling: False, neighbours: 303, Distance: 55.362442142665635, Fuel: 44.637557857334365\n",
            "Point: (679, 378) refueling: True, neighbours: 306, Distance: 49.76946855251722, Fuel: 11.179283067949513\n",
            "Point: (660, 424) refueling: False, neighbours: 301, Distance: 39.05124837953327, Fuel: 60.94875162046673\n",
            "Point: (630, 449) refueling: True, neighbours: 310, Distance: 62.433965115151864, Fuel: 37.566034884848136\n",
            "Point: (577, 482) refueling: True, neighbours: 304, Distance: 61.61168720299745, Fuel: 38.38831279700255\n",
            "Point: (517, 496) refueling: True, neighbours: 279, Distance: 33.94112549695428, Fuel: 66.05887450304573\n",
            "Point: (493, 520) refueling: True, neighbours: 264, Distance: 31.575306807693888, Fuel: 68.42469319230611\n",
            "Point: (499, 551) refueling: True, neighbours: 294, Distance: 68.70953354520753, Fuel: 31.290466454792465\n",
            "Point: (524, 615) refueling: True, neighbours: 284, Distance: 76.2954782408499, Fuel: 23.704521759150097\n",
            "Point: (449, 629) refueling: True, neighbours: 264, Distance: 91.60785992479029, Fuel: 8.39214007520971\n",
            "Point: (503, 703) refueling: True, neighbours: 290\n"
          ]
        }
      ]
    },
    {
      "cell_type": "code",
      "source": [
        "def func_u(l):\n",
        "  return np.maximum(0.00001, l)\n",
        "\n",
        "def evaluate(n, p, fp, l):\n",
        "  graph = Random_Graph(n, p, fp)\n",
        "\n",
        "  start = graph.points[0]\n",
        "  end = graph.points[1]\n",
        "  start.refueling = True\n",
        "  end.refueling = True\n",
        "\n",
        "  st = timer()\n",
        "  find_r, cost_r, path_r, fuel_r = algorithm_with_rejection(graph, start, end, l)\n",
        "  et = timer()\n",
        "  time_rej = et-st\n",
        "\n",
        "  min_fuel_r = l\n",
        "  if find_r:\n",
        "    c = end\n",
        "    while c is not start:\n",
        "      if fuel_r[c] < min_fuel_r:\n",
        "        min_fuel_r = fuel_r[c]\n",
        "      c = path_r[c]\n",
        "\n",
        "  st = timer()\n",
        "  find_c, cost_c, path_c, fuel_c = combined_algorithm(graph, start, end, l, func_u)\n",
        "  et = timer()\n",
        "  time_com = et-st\n",
        "\n",
        "  min_fuel_c = l\n",
        "  if find_c:\n",
        "    c = end\n",
        "    while c is not start:\n",
        "      if fuel_c[c] < min_fuel_c:\n",
        "        min_fuel_c = fuel_c[c]\n",
        "      c = path_c[c]\n",
        "\n",
        "  rej_a = (time_rej, find_r, cost_r, min_fuel_r)\n",
        "  com_a = (time_com, find_c, cost_c, min_fuel_c)\n",
        "  return rej_a, com_a"
      ],
      "metadata": {
        "id": "e5UFlVcIIu4Y"
      },
      "execution_count": null,
      "outputs": []
    },
    {
      "cell_type": "code",
      "source": [
        "for fp in [0.3, 0.5, 0.7]:\n",
        "  for p in [0.3, 0.5, 0.7]:\n",
        "    avg_time_r = 0\n",
        "    avg_dist_r = 0\n",
        "    avg_min_f_r = 0\n",
        "\n",
        "    avg_time_c = 0\n",
        "    avg_dist_c = 0\n",
        "    avg_min_f_c = 0\n",
        "\n",
        "    for i in range(1000):\n",
        "      rej_a, com_a = evaluate(100, p, fp, 50)\n",
        "      time, find, dist, min_f = rej_a\n",
        "\n",
        "      avg_time_r+=time\n",
        "      if find:\n",
        "        avg_dist_r+=dist\n",
        "        avg_min_f_r+=min_f\n",
        "\n",
        "      time, find, dist, min_f = com_a\n",
        "\n",
        "      avg_time_c+=time\n",
        "      if find:\n",
        "        avg_dist_c+=dist\n",
        "        avg_min_f_c+=min_f\n",
        "\n",
        "    avg_time_r/=1000\n",
        "    avg_dist_r/=1000\n",
        "    avg_min_f_r/=1000\n",
        "\n",
        "    avg_time_c/=1000\n",
        "    avg_dist_c/=1000\n",
        "    avg_min_f_c/=1000\n",
        "\n",
        "    print(\"P: {}, F_P: {}\".format(p, fp))\n",
        "    print(\"Rejection - Time: {}, Dist: {}, Min fuel: {}\".format(avg_time_r, avg_dist_r, avg_min_f_r))\n",
        "    print(\"Combine - Time: {}, Dist: {}, Min fuel: {}\".format(avg_time_c, avg_dist_c, avg_min_f_c))"
      ],
      "metadata": {
        "colab": {
          "base_uri": "https://localhost:8080/"
        },
        "id": "_c4HjHXCJ7HZ",
        "outputId": "c889c5c1-1b9b-4281-f01c-dad563d058b4"
      },
      "execution_count": null,
      "outputs": [
        {
          "output_type": "stream",
          "name": "stdout",
          "text": [
            "P: 0.3, F_P: 0.3\n",
            "Rejection - Time: 0.001587122505019579, Dist: 61.85507486651697, Min fuel: 12.200077667938478\n",
            "Combine - Time: 0.006747396454979025, Dist: 65.38515574650569, Min fuel: 13.886464163963963\n",
            "P: 0.5, F_P: 0.3\n",
            "Rejection - Time: 0.001678069437017257, Dist: 55.67738607435826, Min fuel: 13.282662273970137\n",
            "Combine - Time: 0.010729750470021827, Dist: 57.55208847268204, Min fuel: 14.918622774142538\n",
            "P: 0.7, F_P: 0.3\n",
            "Rejection - Time: 0.0018389198310178473, Dist: 52.98975679817978, Min fuel: 13.676558795230525\n",
            "Combine - Time: 0.014414428606998627, Dist: 54.629332937830696, Min fuel: 15.255384710412663\n",
            "P: 0.3, F_P: 0.5\n",
            "Rejection - Time: 0.0012154647559709702, Dist: 59.86148987943144, Min fuel: 12.901952192860014\n",
            "Combine - Time: 0.00732612001999405, Dist: 63.02081830031425, Min fuel: 15.520444897474823\n",
            "P: 0.5, F_P: 0.5\n",
            "Rejection - Time: 0.0013036733030239703, Dist: 55.529022550827904, Min fuel: 13.90969576415104\n",
            "Combine - Time: 0.011904426683984639, Dist: 57.406338951810554, Min fuel: 16.36041771714217\n",
            "P: 0.7, F_P: 0.5\n",
            "Rejection - Time: 0.0014347093390006194, Dist: 52.824188814535866, Min fuel: 14.334410643930966\n",
            "Combine - Time: 0.014560832016006315, Dist: 54.259139342617914, Min fuel: 16.475949994129337\n",
            "P: 0.3, F_P: 0.7\n",
            "Rejection - Time: 0.0010198110249875754, Dist: 57.749747426274716, Min fuel: 14.993378376235954\n",
            "Combine - Time: 0.006892979293012104, Dist: 61.247284755161274, Min fuel: 18.114322488338935\n",
            "P: 0.5, F_P: 0.7\n",
            "Rejection - Time: 0.0011205473440331843, Dist: 54.45648439895825, Min fuel: 14.991261690880325\n",
            "Combine - Time: 0.01140461627098557, Dist: 55.89865211256556, Min fuel: 17.68990468062064\n",
            "P: 0.7, F_P: 0.7\n",
            "Rejection - Time: 0.0012165570530178228, Dist: 52.28247532587598, Min fuel: 14.81472673484412\n",
            "Combine - Time: 0.015200948243005769, Dist: 53.16203839255067, Min fuel: 17.22334069368061\n"
          ]
        }
      ]
    }
  ]
}