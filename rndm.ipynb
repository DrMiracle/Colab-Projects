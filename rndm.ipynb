{
  "nbformat": 4,
  "nbformat_minor": 0,
  "metadata": {
    "colab": {
      "provenance": [],
      "authorship_tag": "ABX9TyO+glJaZ42pNE26VADEyKeP",
      "include_colab_link": true
    },
    "kernelspec": {
      "name": "python3",
      "display_name": "Python 3"
    },
    "language_info": {
      "name": "python"
    }
  },
  "cells": [
    {
      "cell_type": "markdown",
      "metadata": {
        "id": "view-in-github",
        "colab_type": "text"
      },
      "source": [
        "<a href=\"https://colab.research.google.com/github/DrMiracle/Colab-Projects/blob/main/rndm.ipynb\" target=\"_parent\"><img src=\"https://colab.research.google.com/assets/colab-badge.svg\" alt=\"Open In Colab\"/></a>"
      ]
    },
    {
      "cell_type": "code",
      "execution_count": null,
      "metadata": {
        "id": "KmQqJAKUay89"
      },
      "outputs": [],
      "source": [
        "import pandas as pd\n",
        "import numpy as np\n",
        "import matplotlib.pyplot as plt\n",
        "import scipy.stats\n",
        "from scipy import stats\n",
        "from scipy.stats import norm\n",
        "from scipy.stats import t\n",
        "from scipy.stats import chi2_contingency\n",
        "import random,math"
      ]
    },
    {
      "cell_type": "code",
      "source": [
        "data = [0.675,0.386,0.513,0.214,0.671,0.618,0.627,0.648,0.445,0.300,0.460,0.466,0.779,0.425,0.322,0.279,0.584,0.457,0.305,0.802,0.433,0.521,0.529,0.631,0.594,0.337,0.228,0.768,0.302,0.455,0.555,0.723,0.444,0.708,0.681,0.478,0.798,0.461,0.435,0.398,0.833,0.573,0.522,0.369,0.631,0.490,0.319,0.381,0.366,0.466,0.654,0.473,0.536,0.477,0.364,0.412,0.834,0.249,0.537,0.744,0.368,0.431,0.635,0.531,0.430,0.844,0.884,0.474,0.593,0.323,0.652,0.264,0.450,0.771,0.673,0.730,0.461,0.448,0.594,0.336,0.252,0.735,0.389,0.382,0.778,0.644,0.714,0.500,0.450,0.541,0.469,0.676,0.359,0.533,0.315,0.530,0.839,0.187,0.287,0.384,0.530,0.327,0.335,0.563,0.630,0.873,0.318,0.499,0.474,0.592]"
      ],
      "metadata": {
        "id": "9wK3l7LSazgf"
      },
      "execution_count": null,
      "outputs": []
    },
    {
      "cell_type": "code",
      "source": [
        "new_data = np.sort(data)\n",
        "new_data"
      ],
      "metadata": {
        "colab": {
          "base_uri": "https://localhost:8080/"
        },
        "id": "7_46VBMia4o2",
        "outputId": "294e353e-ad72-44f4-e985-e393354744a5"
      },
      "execution_count": null,
      "outputs": [
        {
          "output_type": "execute_result",
          "data": {
            "text/plain": [
              "array([0.187, 0.214, 0.228, 0.249, 0.252, 0.264, 0.279, 0.287, 0.3  ,\n",
              "       0.302, 0.305, 0.315, 0.318, 0.319, 0.322, 0.323, 0.327, 0.335,\n",
              "       0.336, 0.337, 0.359, 0.364, 0.366, 0.368, 0.369, 0.381, 0.382,\n",
              "       0.384, 0.386, 0.389, 0.398, 0.412, 0.425, 0.43 , 0.431, 0.433,\n",
              "       0.435, 0.444, 0.445, 0.448, 0.45 , 0.45 , 0.455, 0.457, 0.46 ,\n",
              "       0.461, 0.461, 0.466, 0.466, 0.469, 0.473, 0.474, 0.474, 0.477,\n",
              "       0.478, 0.49 , 0.499, 0.5  , 0.513, 0.521, 0.522, 0.529, 0.53 ,\n",
              "       0.53 , 0.531, 0.533, 0.536, 0.537, 0.541, 0.555, 0.563, 0.573,\n",
              "       0.584, 0.592, 0.593, 0.594, 0.594, 0.618, 0.627, 0.63 , 0.631,\n",
              "       0.631, 0.635, 0.644, 0.648, 0.652, 0.654, 0.671, 0.673, 0.675,\n",
              "       0.676, 0.681, 0.708, 0.714, 0.723, 0.73 , 0.735, 0.744, 0.768,\n",
              "       0.771, 0.778, 0.779, 0.798, 0.802, 0.833, 0.834, 0.839, 0.844,\n",
              "       0.873, 0.884])"
            ]
          },
          "metadata": {},
          "execution_count": 3
        }
      ]
    },
    {
      "cell_type": "code",
      "source": [
        "mean = np.mean(data)\n",
        "var = np.var(data)\n",
        "std = np.std(data)\n",
        "mean, var, std"
      ],
      "metadata": {
        "id": "0735NduucW9F",
        "outputId": "3e2aefdc-6d9a-4fed-8953-67ce0894c8e8",
        "colab": {
          "base_uri": "https://localhost:8080/"
        }
      },
      "execution_count": null,
      "outputs": [
        {
          "output_type": "execute_result",
          "data": {
            "text/plain": [
              "(0.5152909090909091, 0.027800969917355374, 0.16673622856882475)"
            ]
          },
          "metadata": {},
          "execution_count": 10
        }
      ]
    },
    {
      "cell_type": "code",
      "source": [
        "deviation = new_data[-1]-new_data[0]\n",
        "num_of_intervals = 8\n",
        "interval_length = deviation / num_of_intervals"
      ],
      "metadata": {
        "id": "X8M0kVICa6D7"
      },
      "execution_count": null,
      "outputs": []
    },
    {
      "cell_type": "code",
      "source": [
        "intervals = []\n",
        "j = 0\n",
        "x_i = []\n",
        "for i in range(num_of_intervals):\n",
        "  start_value = new_data[j]\n",
        "  temp_list = []\n",
        "  while j < len(new_data) and new_data[j] < start_value + interval_length:\n",
        "    temp_list.append(new_data[j])\n",
        "    j += 1\n",
        "  intervals.append(temp_list)\n",
        "  x_i.append(start_value + interval_length)"
      ],
      "metadata": {
        "id": "H2eSKaI3cS3I"
      },
      "execution_count": null,
      "outputs": []
    },
    {
      "cell_type": "code",
      "source": [
        "u_i = [(i- mean) / std for i in x_i]\n",
        "u_i"
      ],
      "metadata": {
        "colab": {
          "base_uri": "https://localhost:8080/"
        },
        "id": "OAeB8dHecUXQ",
        "outputId": "76f5e1a7-0fd7-4dad-ceb3-68e1ecdcb978"
      },
      "execution_count": null,
      "outputs": [
        {
          "output_type": "execute_result",
          "data": {
            "text/plain": [
              "[-1.4463917719679114,\n",
              " -0.8946220648701848,\n",
              " -0.3608448482212975,\n",
              " 0.17293236842758986,\n",
              " 0.7606870564229946,\n",
              " 1.294464273071882,\n",
              " 1.8402364833533287,\n",
              " 2.4279911713487325]"
            ]
          },
          "metadata": {},
          "execution_count": 11
        }
      ]
    }
  ]
}