{
  "nbformat": 4,
  "nbformat_minor": 0,
  "metadata": {
    "colab": {
      "provenance": [],
      "authorship_tag": "ABX9TyMbTwcV8x8SaVHVZIdcidMb",
      "include_colab_link": true
    },
    "kernelspec": {
      "name": "python3",
      "display_name": "Python 3"
    },
    "language_info": {
      "name": "python"
    }
  },
  "cells": [
    {
      "cell_type": "markdown",
      "metadata": {
        "id": "view-in-github",
        "colab_type": "text"
      },
      "source": [
        "<a href=\"https://colab.research.google.com/github/DrMiracle/Colab-Projects/blob/main/probability%20matrix.ipynb\" target=\"_parent\"><img src=\"https://colab.research.google.com/assets/colab-badge.svg\" alt=\"Open In Colab\"/></a>"
      ]
    },
    {
      "cell_type": "markdown",
      "source": [
        "10 квітня 2021 року я хочу поїхати в Одесу відпочити. Мені треба вирішити, чи брати теплі речі та чи брати дощовик. Дощовик мені потрібен, якщо буде дощ, теплі речі - якщо буде холодно. Залежно від того, яка буде погода, мені буде жарко, холодно чи нормально. Беремо дані звідси(https://meteopost.com/weather/archive/) і, порівнюючи з погодою за роки 2012-2020, бачимо, що: ймовірність, що буде дощ $(\\frac{4}{10})$, ймовірність, що буде холодно $(\\frac{7}{10})$.\n",
        "\n",
        "Модель $\\check{M} = <\\Omega, D, R, \\sigma>$, де:\n",
        "\n",
        "$D = \\{d_1, d_2, d_3, d_4\\}$, ($d_1$: не взяв нічого; $d_2$: взяв теплі речі; $d_3$: взяв дощовик; $d_4$: взяв теплі речі і дощовик).\n",
        "\n",
        "$R = \\{r_1, r_2, r_3\\}$, ($r_1$: жарко, $r_2$: холодно, $r_3$: нормально).\n",
        "\n",
        "$\\Omega = \\{ω_1 (P = (\\frac{3}{10}) \\times (\\frac{6}{10})), ω_2 (P = (\\frac{3}{10}) \\times  (\\frac{4}{10})), ω_3 (P = (\\frac{7}{10}) \\times (\\frac{6}{10})), ω_4 (P = (\\frac{7}{10}) \\times (\\frac{4}{10}))\\}$ ($ω_1$: тепло, нема дощу; $ω_2$: тепло, є дощ; $ω_3$: холодно, нема дощу; $ω_4$: холодно, є дощ).\n",
        "\n",
        "$\\sigma: (\\omega_1, d_1) \\to r_3, (\\omega_2, d_1) \\to r_2, (\\omega_3, d_1) \\to r_2, (\\omega_4, d_1) \\to r_2, (\\omega_1, d_2) \\to r_1, (\\omega_2, d_2) \\to r_1, (\\omega_3, d_2) \\to r_3, (\\omega_4, d_2) \\to r_3, (\\omega_1, d_3) \\to r_3, (\\omega_2, d_3) \\to r_3, (\\omega_3, d_3) \\to r_2, (\\omega_4, d_3) \\to r_3, (\\omega_1, d_4) \\to r_1, (\\omega_2, d_4) \\to r_1, (\\omega_3, d_4) \\to r_3, (\\omega_4, d_4) \\to r_3$."
      ],
      "metadata": {
        "id": "wgatEWDG_aNL"
      }
    },
    {
      "cell_type": "code",
      "execution_count": null,
      "metadata": {
        "colab": {
          "base_uri": "https://localhost:8080/"
        },
        "id": "KW_vWZS9IQYO",
        "outputId": "95b880d1-4fac-462b-faa4-14bf002f69fe"
      },
      "outputs": [
        {
          "output_type": "stream",
          "name": "stdout",
          "text": [
            "Проєкція:\n",
            "[[0.4        0.4        0.         0.        ]\n",
            " [0.         0.18000001 0.59999999 0.18000001]\n",
            " [0.59999999 0.41999999 0.4        0.81999999]]\n",
            "\n",
            "Сума ймовірностей для кожної дії:\n",
            "[0.99999999 0.99999999 0.99999999 0.99999999]\n",
            "\n",
            "Представлення:\n",
            "[[1. 1. 2. 2.]\n",
            " [1. 1. 2. 3.]\n",
            " [1. 1. 3. 2.]\n",
            " [1. 1. 3. 3.]\n",
            " [1. 2. 2. 2.]\n",
            " [1. 2. 2. 3.]\n",
            " [1. 2. 3. 2.]\n",
            " [1. 2. 3. 3.]\n",
            " [1. 3. 2. 2.]\n",
            " [1. 3. 2. 3.]\n",
            " [1. 3. 3. 2.]\n",
            " [1. 3. 3. 3.]\n",
            " [3. 1. 2. 2.]\n",
            " [3. 1. 2. 3.]\n",
            " [3. 1. 3. 2.]\n",
            " [3. 1. 3. 3.]\n",
            " [3. 2. 2. 2.]\n",
            " [3. 2. 2. 3.]\n",
            " [3. 2. 3. 2.]\n",
            " [3. 2. 3. 3.]\n",
            " [3. 3. 2. 2.]\n",
            " [3. 3. 2. 3.]\n",
            " [3. 3. 3. 2.]\n",
            " [3. 3. 3. 3.]]\n",
            "\n",
            "Кількість станів після операції представлення = 24\n",
            "\n",
            "Розподіл ймовірностей:\n",
            "[0.01728    0.07872    0.01152    0.05248    0.007776   0.035424\n",
            " 0.005184   0.023616   0.018144   0.08265599 0.012096   0.055104\n",
            " 0.02592    0.11808    0.01728    0.07872    0.011664   0.053136\n",
            " 0.007776   0.035424   0.027216   0.12398399 0.018144   0.08265599]\n",
            "\n",
            "Сума ймовірностей станів = 0.999999970197678\n"
          ]
        }
      ],
      "source": [
        "import numpy as np\n",
        "\n",
        "class Model:\n",
        "\n",
        "  def __init__(self, sigma, D):\n",
        "    assert sigma.ndim == 2\n",
        "    assert len(sigma) == len(D)\n",
        "    self.sigma = sigma\n",
        "    self.D = D\n",
        "    self.n_results = np.max(sigma)\n",
        "\n",
        "  # операція представлення\n",
        "  def representation(self, P):\n",
        "    self.sigma = np.array([])\n",
        "    self.D = np.array([])\n",
        "    self.represent(P, np.zeros((len(P[0],))), 0)\n",
        "    self.sigma = self.sigma.reshape(-1, len(P[0]))\n",
        "\n",
        "  def represent(self, P, way, j):\n",
        "    for i in range(len(P)):\n",
        "      way[j] = i + 1\n",
        "      if j + 1 == len(P[0]):\n",
        "        prob = 1\n",
        "        for k in range(len(P[0])):\n",
        "          prob *= P[(way[k] - 1).astype(int), k]\n",
        "        if prob > 0:\n",
        "          self.sigma = np.append(self.sigma, way)\n",
        "          self.D = np.append(self.D, prob)\n",
        "      else:\n",
        "        self.represent(P, way, j + 1)\n",
        "  # проєкція\n",
        "  def projection(self):\n",
        "    p = np.zeros((self.n_results, len(self.sigma[0])))\n",
        "    for j in range(len(self.sigma[0])):\n",
        "      for i in range(len(self.sigma)):\n",
        "        p[self.sigma[i, j] - 1, j] += self.D[i]\n",
        "    return p\n",
        "\n",
        "# Матриця наслідків\n",
        "sigma = np.array([[3, 2, 2, 2], [1, 1, 3, 3], [3, 3, 2, 3], [1, 1, 3, 3]])\n",
        "# ймовірності станів\n",
        "D = np.array([(3/10) * (6/10),(3/10) * (4/10), (7/10) * (6/10), (7/10) * (4/10)], dtype=np.float32)\n",
        "# Створюємо модель\n",
        "M = Model(sigma, D)\n",
        "# Виконуємо проєкцію і показуємо її\n",
        "P = M.projection()\n",
        "print(\"Проєкція:\")\n",
        "print(P)\n",
        "# Сума ймовірностей для кожної дії\n",
        "print(\"\\nСума ймовірностей для кожної дії:\")\n",
        "print(np.sum(P, axis=0))\n",
        "# Виконуємо операцію представлення і показуємо її\n",
        "M.representation(P)\n",
        "print(\"\\nПредставлення:\")\n",
        "print(M.sigma)\n",
        "# Виводимо кількість станів після операції представлення (як бачимо, вона збільшилась з 4 до 24)\n",
        "print(\"\\nКількість станів після операції представлення = {}\".format(len(M.sigma)))\n",
        "# Виводимо розподіл ймовірностей для станів\n",
        "print(\"\\nРозподіл ймовірностей:\")\n",
        "print(M.D)\n",
        "# Та переконуємось, що їхня сума дорівнює одиниці\n",
        "print(\"\\nСума ймовірностей станів = {}\".format(np.sum(M.D)))"
      ]
    }
  ]
}