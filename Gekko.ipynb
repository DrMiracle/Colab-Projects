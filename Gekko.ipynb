{
  "nbformat": 4,
  "nbformat_minor": 0,
  "metadata": {
    "colab": {
      "provenance": [],
      "include_colab_link": true
    },
    "kernelspec": {
      "name": "python3",
      "display_name": "Python 3"
    },
    "language_info": {
      "name": "python"
    }
  },
  "cells": [
    {
      "cell_type": "markdown",
      "metadata": {
        "id": "view-in-github",
        "colab_type": "text"
      },
      "source": [
        "<a href=\"https://colab.research.google.com/github/DrMiracle/Colab-Projects/blob/main/Gekko.ipynb\" target=\"_parent\"><img src=\"https://colab.research.google.com/assets/colab-badge.svg\" alt=\"Open In Colab\"/></a>"
      ]
    },
    {
      "cell_type": "code",
      "metadata": {
        "colab": {
          "base_uri": "https://localhost:8080/"
        },
        "id": "tdTTTdYfbqm0",
        "outputId": "c9a25f4b-3a4e-4a89-e6d9-4b7776426fb7"
      },
      "source": [
        "!pip install gekko"
      ],
      "execution_count": null,
      "outputs": [
        {
          "output_type": "stream",
          "name": "stdout",
          "text": [
            "Collecting gekko\n",
            "  Downloading gekko-1.0.1-py3-none-any.whl (12.4 MB)\n",
            "\u001b[K     |████████████████████████████████| 12.4 MB 11.9 MB/s \n",
            "\u001b[?25hRequirement already satisfied: numpy>=1.8 in /usr/local/lib/python3.7/dist-packages (from gekko) (1.19.5)\n",
            "Installing collected packages: gekko\n",
            "Successfully installed gekko-1.0.1\n"
          ]
        }
      ]
    },
    {
      "cell_type": "code",
      "metadata": {
        "colab": {
          "base_uri": "https://localhost:8080/"
        },
        "id": "FoFzMphup3q_",
        "outputId": "4492ffdc-16ed-41c2-9050-6a1bf54a1b53"
      },
      "source": [
        "from gekko import GEKKO\n",
        "\n",
        "\n",
        "m = GEKKO(remote=True)\n",
        "\n",
        "x1,x2 = [m.Var() for i in range(2)]\n",
        "\n",
        "\n",
        "m.Equation(5*x1-x2>=10)\n",
        "m.Equation(15*x1+8*x2<=240)\n",
        "m.Equation(-2*x1+3*x2>=12)\n",
        "\n",
        "#min\n",
        "m.Obj(x1**2-24*x1+2*x2**2-64*x2+656)\n",
        "\n",
        "#max\n",
        "# m.Obj(-(x1**2-24*x1+2*x2**2-64*x2+656))\n",
        "\n",
        "m.options.IMODE\n",
        "\n",
        "m.solve()\n",
        "\n",
        "print('x1=' + str(x1.value))\n",
        "print('x2=' + str(x2.value))"
      ],
      "execution_count": null,
      "outputs": [
        {
          "output_type": "stream",
          "name": "stdout",
          "text": [
            "apm 34.90.57.186_gk_model0 <br><pre> ----------------------------------------------------------------\n",
            " APMonitor, Version 1.0.1\n",
            " APMonitor Optimization Suite\n",
            " ----------------------------------------------------------------\n",
            " \n",
            " \n",
            " Warning: there is insufficient data in CSV file 34.90.57.186_gk_model0.csv\n",
            " \n",
            " --------- APM Model Size ------------\n",
            " Each time step contains\n",
            "   Objects      :            0\n",
            "   Constants    :            0\n",
            "   Variables    :            5\n",
            "   Intermediates:            0\n",
            "   Connections  :            0\n",
            "   Equations    :            4\n",
            "   Residuals    :            4\n",
            " \n",
            " Number of state variables:              5\n",
            " Number of total equations: -            3\n",
            " Number of slack variables: -            3\n",
            " ---------------------------------------\n",
            " Degrees of freedom       :             -1\n",
            " \n",
            " * Warning: DOF <= 0\n",
            " **********************************************\n",
            " Steady State Optimization with Interior Point Solver\n",
            " **********************************************\n",
            "  \n",
            "  \n",
            " Info: Exact Hessian\n",
            "\n",
            "******************************************************************************\n",
            "This program contains Ipopt, a library for large-scale nonlinear optimization.\n",
            " Ipopt is released as open source code under the Eclipse Public License (EPL).\n",
            "         For more information visit http://projects.coin-or.org/Ipopt\n",
            "******************************************************************************\n",
            "\n",
            "This is Ipopt version 3.12.10, running with linear solver ma57.\n",
            "\n",
            "Number of nonzeros in equality constraint Jacobian...:        9\n",
            "Number of nonzeros in inequality constraint Jacobian.:        0\n",
            "Number of nonzeros in Lagrangian Hessian.............:        2\n",
            "\n",
            "Total number of variables............................:        5\n",
            "                     variables with only lower bounds:        3\n",
            "                variables with lower and upper bounds:        0\n",
            "                     variables with only upper bounds:        0\n",
            "Total number of equality constraints.................:        3\n",
            "Total number of inequality constraints...............:        0\n",
            "        inequality constraints with only lower bounds:        0\n",
            "   inequality constraints with lower and upper bounds:        0\n",
            "        inequality constraints with only upper bounds:        0\n",
            "\n",
            "iter    objective    inf_pr   inf_du lg(mu)  ||d||  lg(rg) alpha_du alpha_pr  ls\n",
            "   0  6.5600000e+02 2.40e+02 7.08e+00   0.0 0.00e+00    -  0.00e+00 0.00e+00   0\n",
            "   1  2.0603478e+01 2.75e-14 1.63e+03  -8.0 1.63e+01    -  6.07e-04 1.00e+00f  1\n",
            "   2  1.8736646e+01 2.13e-14 2.47e-06  -0.6 2.10e+00    -  1.00e+00 1.00e+00f  1\n",
            "   3  1.8012463e+01 1.47e-14 5.17e-04  -6.5 1.35e+00    -  9.68e-01 1.00e+00f  1\n",
            "   4  1.7992420e+01 2.04e-14 5.47e-06  -8.1 3.82e-02    -  9.89e-01 9.91e-01f  1\n",
            "   5  1.7992218e+01 2.04e-14 1.17e-09 -10.1 3.82e-04    -  1.00e+00 1.00e+00f  1\n",
            "\n",
            "Number of Iterations....: 5\n",
            "\n",
            "                                   (scaled)                 (unscaled)\n",
            "Objective...............:   1.7992217934502150e+01    1.7992217934502150e+01\n",
            "Dual infeasibility......:   1.1705604263667624e-09    1.1705604263667624e-09\n",
            "Constraint violation....:   2.0385494507724200e-14    2.0385494507724200e-14\n",
            "Complementarity.........:   4.0961252247094247e-08    4.0961252247094247e-08\n",
            "Overall NLP error.......:   4.0961252247094247e-08    4.0961252247094247e-08\n",
            "\n",
            "\n",
            "Number of objective function evaluations             = 6\n",
            "Number of objective gradient evaluations             = 6\n",
            "Number of equality constraint evaluations            = 6\n",
            "Number of inequality constraint evaluations          = 0\n",
            "Number of equality constraint Jacobian evaluations   = 6\n",
            "Number of inequality constraint Jacobian evaluations = 0\n",
            "Number of Lagrangian Hessian evaluations             = 5\n",
            "Total CPU secs in IPOPT (w/o function evaluations)   =      0.004\n",
            "Total CPU secs in NLP function evaluations           =      0.000\n",
            "\n",
            "EXIT: Optimal Solution Found.\n",
            " \n",
            " The solution was found.\n",
            " \n",
            " The final value of the objective function is    17.9922179345022     \n",
            " \n",
            " ---------------------------------------------------\n",
            " Solver         :  IPOPT (v3.12)\n",
            " Solution time  :   8.499999996274710E-003 sec\n",
            " Objective      :    17.9922179345022     \n",
            " Successful solution\n",
            " ---------------------------------------------------\n",
            " \n",
            "x1=[8.0311284005]\n",
            "x2=[14.941634241]\n"
          ]
        }
      ]
    },
    {
      "cell_type": "code",
      "metadata": {
        "colab": {
          "base_uri": "https://localhost:8080/"
        },
        "id": "Inm0kaLSxsW2",
        "outputId": "8344b38b-2cfb-4fd0-c326-46145b8fce41"
      },
      "source": [
        "import numpy as np\n",
        "from scipy.optimize import minimize\n",
        "\n",
        "\n",
        "def objective(x):\n",
        "    return x[0]*x[0]-24*x[0]+2*x[1]*x[1]-64*x[1]+656\n",
        "def objectiveT(x):\n",
        "    return -(x[0]*x[0]-24*x[0]+2*x[1]*x[1]-64*x[1]+656)\n",
        "\n",
        "def constraint1(x):\n",
        "    return 5*x[0]-x[1]-10.0\n",
        "\n",
        "def constraint2(x):\n",
        "    return 15*x[0]+8*x[1]+240.0\n",
        "\n",
        "def constraint3(x):\n",
        "    return -2*x[0]+3*x[1]-12.0\n",
        "\n",
        "# initial guesses\n",
        "n = 2\n",
        "x0 = np.zeros(n)\n",
        "x0[0] = 8.03125\n",
        "x0[1] = 14.9414\n",
        "\n",
        "# show initial objective\n",
        "print('Initial SSE Objective: ' + str(objective(x0)))\n",
        "\n",
        "# optimize\n",
        "b = (-20,20)\n",
        "bnds = (b, b)\n",
        "con1 = {'type': 'ineq', 'fun': constraint1}\n",
        "con2 = {'type': 'ineq', 'fun': constraint2}\n",
        "con3 = {'type': 'ineq', 'fun': constraint3}\n",
        "cons = ([con1,con2,con3])\n",
        "solution = minimize(objective,x0,method='SLSQP',\\\n",
        "                    bounds=bnds,constraints=cons)\n",
        "x = solution.x\n",
        "\n",
        "# show final objective\n",
        "print('Final SSE Objective: ' + str(objective(x)))\n",
        "\n",
        "# print solution\n",
        "print('Solution min')\n",
        "print('x1 = ' + str(x[0]))\n",
        "print('x2 = ' + str(x[1]))\n",
        "\n",
        "solution = minimize(objectiveT,x0,method='SLSQP',\\\n",
        "                    bounds=bnds,constraints=cons)\n",
        "x = solution.x\n",
        "\n",
        "# show final objective\n",
        "print('Final SSE Objective: ' + str(objective(x)))\n",
        "\n",
        "# print solution\n",
        "print('Solution max')\n",
        "print('x1 = ' + str(x[0]))\n",
        "print('x2 = ' + str(x[1]))"
      ],
      "execution_count": null,
      "outputs": [
        {
          "output_type": "stream",
          "name": "stdout",
          "text": [
            "Initial SSE Objective: 17.992244482499927\n",
            "Final SSE Objective: 4.547473508864641e-13\n",
            "Solution min\n",
            "x1 = 11.99999939578812\n",
            "x2 = 16.0000000296693\n",
            "Final SSE Objective: 270.7928994058343\n",
            "Solution max\n",
            "x1 = 3.230769230797117\n",
            "x2 = 6.153846153895936\n"
          ]
        }
      ]
    }
  ]
}