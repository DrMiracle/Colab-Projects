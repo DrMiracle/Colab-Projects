{
  "nbformat": 4,
  "nbformat_minor": 0,
  "metadata": {
    "colab": {
      "provenance": [],
      "include_colab_link": true
    },
    "kernelspec": {
      "name": "python3",
      "display_name": "Python 3"
    },
    "language_info": {
      "name": "python"
    }
  },
  "cells": [
    {
      "cell_type": "markdown",
      "metadata": {
        "id": "view-in-github",
        "colab_type": "text"
      },
      "source": [
        "<a href=\"https://colab.research.google.com/github/DrMiracle/Colab-Projects/blob/main/LevenshteinDistance.ipynb\" target=\"_parent\"><img src=\"https://colab.research.google.com/assets/colab-badge.svg\" alt=\"Open In Colab\"/></a>"
      ]
    },
    {
      "cell_type": "code",
      "source": [
        "import numpy as np"
      ],
      "metadata": {
        "id": "0LLfqJ4wOvNG"
      },
      "execution_count": null,
      "outputs": []
    },
    {
      "cell_type": "code",
      "execution_count": null,
      "metadata": {
        "id": "RX8WgYbwNwCD"
      },
      "outputs": [],
      "source": [
        "def levenshtein_distance(word1: str, word2: str, return_table: bool=True):\n",
        "  '''\n",
        "  Compute the Levenshtein distance between 2 words\n",
        "  :param word1: first word\n",
        "  :param word2: second word\n",
        "  :param return_table: whether to return the full table; defaults to True\n",
        "  :returns: the distance itself, as well as (possibly) the table\n",
        "  '''\n",
        "\n",
        "  table = np.zeros((len(word1) + 1, len(word2) + 1))\n",
        "  table[:, 0] = range(len(word1) + 1)\n",
        "  table[0, :] = range(len(word2) + 1)\n",
        "\n",
        "  for i in range(len(word1)):\n",
        "    for j in range(len(word2)):\n",
        "      table[i + 1, j + 1] = min(table[i, j + 1], table[i + 1, j], table[i, j]) + 1\n",
        "      if word1[i] == word2[j]:\n",
        "        table[i + 1, j + 1] = min(table[i + 1, j + 1], table[i, j])\n",
        "\n",
        "  if return_table:\n",
        "    return table[len(word1), len(word2)], table\n",
        "\n",
        "  return table[len(word1), len(word2)]"
      ]
    },
    {
      "cell_type": "code",
      "source": [
        "word1 = 'renaissance'\n",
        "word2 = 'reconnaissance'"
      ],
      "metadata": {
        "id": "ZgxBiJOZQKPU"
      },
      "execution_count": null,
      "outputs": []
    },
    {
      "cell_type": "code",
      "source": [
        "dist, table = levenshtein_distance(word1, word2)"
      ],
      "metadata": {
        "id": "MsU1W_rhQYqE"
      },
      "execution_count": null,
      "outputs": []
    },
    {
      "cell_type": "code",
      "source": [
        "dist"
      ],
      "metadata": {
        "colab": {
          "base_uri": "https://localhost:8080/"
        },
        "id": "2hNP7q1WQd0Y",
        "outputId": "4d042f7c-9ce2-4b62-b31f-b6df6d9f7243"
      },
      "execution_count": null,
      "outputs": [
        {
          "output_type": "execute_result",
          "data": {
            "text/plain": [
              "3.0"
            ]
          },
          "metadata": {},
          "execution_count": 5
        }
      ]
    },
    {
      "cell_type": "code",
      "source": [
        "print(table)"
      ],
      "metadata": {
        "colab": {
          "base_uri": "https://localhost:8080/"
        },
        "id": "TULQB8C6Q0O8",
        "outputId": "ad208345-6326-4d7f-9167-c7292a595328"
      },
      "execution_count": null,
      "outputs": [
        {
          "output_type": "stream",
          "name": "stdout",
          "text": [
            "[[ 0.  1.  2.  3.  4.  5.  6.  7.  8.  9. 10. 11. 12. 13. 14.]\n",
            " [ 1.  0.  1.  2.  3.  4.  5.  6.  7.  8.  9. 10. 11. 12. 13.]\n",
            " [ 2.  1.  0.  1.  2.  3.  4.  5.  6.  7.  8.  9. 10. 11. 12.]\n",
            " [ 3.  2.  1.  1.  2.  2.  3.  4.  5.  6.  7.  8.  9. 10. 11.]\n",
            " [ 4.  3.  2.  2.  2.  3.  3.  3.  4.  5.  6.  7.  8.  9. 10.]\n",
            " [ 5.  4.  3.  3.  3.  3.  4.  4.  3.  4.  5.  6.  7.  8.  9.]\n",
            " [ 6.  5.  4.  4.  4.  4.  4.  5.  4.  3.  4.  5.  6.  7.  8.]\n",
            " [ 7.  6.  5.  5.  5.  5.  5.  5.  5.  4.  3.  4.  5.  6.  7.]\n",
            " [ 8.  7.  6.  6.  6.  6.  6.  5.  6.  5.  4.  3.  4.  5.  6.]\n",
            " [ 9.  8.  7.  7.  7.  6.  6.  6.  6.  6.  5.  4.  3.  4.  5.]\n",
            " [10.  9.  8.  7.  8.  7.  7.  7.  7.  7.  6.  5.  4.  3.  4.]\n",
            " [11. 10.  9.  8.  8.  8.  8.  8.  8.  8.  7.  6.  5.  4.  3.]]\n"
          ]
        }
      ]
    }
  ]
}