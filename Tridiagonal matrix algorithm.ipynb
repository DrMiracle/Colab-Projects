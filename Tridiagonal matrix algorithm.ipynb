{
  "nbformat": 4,
  "nbformat_minor": 0,
  "metadata": {
    "colab": {
      "provenance": [],
      "include_colab_link": true
    },
    "kernelspec": {
      "name": "python3",
      "display_name": "Python 3"
    },
    "language_info": {
      "name": "python"
    }
  },
  "cells": [
    {
      "cell_type": "markdown",
      "metadata": {
        "id": "view-in-github",
        "colab_type": "text"
      },
      "source": [
        "<a href=\"https://colab.research.google.com/github/DrMiracle/Colab-Projects/blob/main/Tridiagonal%20matrix%20algorithm.ipynb\" target=\"_parent\"><img src=\"https://colab.research.google.com/assets/colab-badge.svg\" alt=\"Open In Colab\"/></a>"
      ]
    },
    {
      "cell_type": "code",
      "execution_count": null,
      "metadata": {
        "colab": {
          "base_uri": "https://localhost:8080/"
        },
        "id": "gmjRQ6LYATWF",
        "outputId": "558ce4a7-d843-478e-d4fe-2fcee45d1047"
      },
      "outputs": [
        {
          "output_type": "stream",
          "name": "stdout",
          "text": [
            "solutions:  [0.9999999999999999, 1.0000000000000002, 1.0]\n"
          ]
        }
      ],
      "source": [
        "import math\n",
        "\n",
        "a = [[3,1,0],\n",
        "     [1,3,1],\n",
        "     [0,1,3]]\n",
        "\n",
        "b = [4,5,4]\n",
        "\n",
        "\n",
        "def checkMatrix(a):\n",
        "    n = len(a)\n",
        "\n",
        "    for row in range(0, n):\n",
        "        if( len(a[row]) != n ):\n",
        "            return False\n",
        "\n",
        "    for row in range(1, n - 1):\n",
        "        if(abs(a[row][row]) < abs(a[row][row - 1]) + abs(a[row][row + 1])):\n",
        "            return False\n",
        "\n",
        "    if (abs(a[0][0]) < abs(a[0][1]))or(abs(a[n - 1][n - 1]) < abs(a[n - 1][n - 2])):\n",
        "        return False\n",
        "\n",
        "\n",
        "    for row in range(0, len(a)):\n",
        "        if( a[row][row] == 0 ):\n",
        "            return False\n",
        "    return True\n",
        "\n",
        "\n",
        "\n",
        "def solution(a, b):\n",
        "    if( not checkMatrix(a) ):\n",
        "        print('Wrong matrix')\n",
        "        return -1\n",
        "\n",
        "    n = len(a)\n",
        "\n",
        "    x = [0 for k in range(0, n)]\n",
        "\n",
        "    v = [0 for k in range(0, n)]\n",
        "    u = [0 for k in range(0, n)]\n",
        "\n",
        "    v[0] = a[0][1] / (-a[0][0])\n",
        "    u[0] = ( - b[0]) / (-a[0][0])\n",
        "    for i in range(1, n - 1):\n",
        "        v[i] = a[i][i+1] / ( -a[i][i] - a[i][i-1]*v[i-1] )\n",
        "        u[i] = ( a[i][i-1]*u[i-1] - b[i] ) / ( -a[i][i] - a[i][i-1]*v[i-1] )\n",
        "\n",
        "    v[n-1] = 0\n",
        "    u[n-1] = (a[n-1][n-2]*u[n-2] - b[n-1]) / (-a[n-1][n-1] - a[n-1][n-2]*v[n-2])\n",
        "\n",
        "    x[n-1] = u[n-1]\n",
        "    for i in range(n-1, 0, -1):\n",
        "        x[i-1] = v[i-1] * x[i] + u[i-1]\n",
        "\n",
        "    return x\n",
        "\n",
        "\n",
        "print('solutions: ', solution(a, b))"
      ]
    }
  ]
}