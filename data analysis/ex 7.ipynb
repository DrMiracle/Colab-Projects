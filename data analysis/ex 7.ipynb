{
  "nbformat": 4,
  "nbformat_minor": 0,
  "metadata": {
    "colab": {
      "provenance": [],
      "authorship_tag": "ABX9TyOsKQcZ5gSTgGyrzSh4C81i",
      "include_colab_link": true
    },
    "kernelspec": {
      "name": "python3",
      "display_name": "Python 3"
    },
    "language_info": {
      "name": "python"
    }
  },
  "cells": [
    {
      "cell_type": "markdown",
      "metadata": {
        "id": "view-in-github",
        "colab_type": "text"
      },
      "source": [
        "<a href=\"https://colab.research.google.com/github/DrMiracle/Colab-Projects/blob/main/data%20analysis/ex%207.ipynb\" target=\"_parent\"><img src=\"https://colab.research.google.com/assets/colab-badge.svg\" alt=\"Open In Colab\"/></a>"
      ]
    },
    {
      "cell_type": "code",
      "execution_count": null,
      "metadata": {
        "colab": {
          "base_uri": "https://localhost:8080/"
        },
        "id": "uF0E1SKh95JT",
        "outputId": "692beb32-c821-460e-80cf-1ab399d5a76a"
      },
      "outputs": [
        {
          "output_type": "stream",
          "name": "stdout",
          "text": [
            "[[0.12553961 0.78821642 0.73122633 0.96478567 0.00701734]\n",
            " [0.43912533 0.82848912 0.62415019 0.08507679 0.66170283]\n",
            " [0.34543689 0.33067598 0.90311915 0.86359801 0.89853899]\n",
            " [0.13669439 0.99387562 0.7575469  0.09214971 0.81796935]\n",
            " [0.1299906  0.00391354 0.20286474 0.33026873 0.58488701]]\n",
            "13\n",
            "Minimal n for Kolmogorov's test: 1\n",
            "Minimal n for Pearson's test:  2\n"
          ]
        }
      ],
      "source": [
        "import numpy as np\n",
        "import scipy.stats\n",
        "import statsmodels as sm\n",
        "from scipy.stats import kstest, ksone, chisquare, stats, normaltest\n",
        "\n",
        "#1 пункт\n",
        "samples = []\n",
        "for i in range(200):\n",
        "  samples.append(np.random.uniform(0, 1, size=100))\n",
        "print(np.array(samples)[:5,:5])\n",
        "\n",
        "#2 пункт\n",
        "ks = np.array([kstest(sample, 'uniform') for sample in samples])\n",
        "print(sum(ks[:,1] < 0.05))\n",
        "\n",
        "#3 пункт\n",
        "kolmogorov_passed = False\n",
        "zeta = samples[0]\n",
        "std = np.std(zeta)\n",
        "mu = 0.5\n",
        "p_val_kolmogorov = kstest(zeta, 'norm', args=(mu, std))[1]\n",
        "\n",
        "if p_val_kolmogorov > 0.05:\n",
        "    print(\"Minimal n for Kolmogorov's test: 1\")\n",
        "    kolmogorov_passed = True\n",
        "\n",
        "for i in range(1, 200):\n",
        "    zeta = zeta + samples[i]\n",
        "    mu = (i+1)/2\n",
        "    std = np.std(zeta)\n",
        "    p_val_kolmogorov = kstest(zeta, 'norm', args=(mu, std))[1]\n",
        "    if (not kolmogorov_passed) and p_val_kolmogorov > 0.05:\n",
        "        print(\"Minimal n for Kolmogorov's test: \", i+1)\n",
        "        kolmogorov = True\n",
        "        break\n",
        "\n",
        "#4 пункт\n",
        "pearson_passed = False\n",
        "zeta = samples[0]\n",
        "std = np.std(zeta)\n",
        "mu = 0.5\n",
        "p_val_pearson = normaltest(zeta)[1]\n",
        "\n",
        "if p_val_pearson > 0.05:\n",
        "    print(\"Minimal n for Pearson's test: 1\")\n",
        "    pearson_passed = True\n",
        "\n",
        "for i in range(1, 200):\n",
        "    zeta = zeta + samples[i]\n",
        "    mu = (i+1)/2\n",
        "    std = np.std(zeta)\n",
        "\n",
        "    p_val_pearson = normaltest(zeta)[1]\n",
        "    if (not pearson_passed) and p_val_pearson > 0.05:\n",
        "        print(\"Minimal n for Pearson's test: \", i+1)\n",
        "        pearson = True\n",
        "        break"
      ]
    }
  ]
}