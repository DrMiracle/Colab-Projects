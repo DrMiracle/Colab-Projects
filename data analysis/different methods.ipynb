{
  "nbformat": 4,
  "nbformat_minor": 0,
  "metadata": {
    "colab": {
      "provenance": [],
      "authorship_tag": "ABX9TyNlbzUv0PZiKENdaJGiICP0",
      "include_colab_link": true
    },
    "kernelspec": {
      "name": "python3",
      "display_name": "Python 3"
    },
    "language_info": {
      "name": "python"
    }
  },
  "cells": [
    {
      "cell_type": "markdown",
      "metadata": {
        "id": "view-in-github",
        "colab_type": "text"
      },
      "source": [
        "<a href=\"https://colab.research.google.com/github/DrMiracle/Colab-Projects/blob/main/data%20analysis/different%20methods.ipynb\" target=\"_parent\"><img src=\"https://colab.research.google.com/assets/colab-badge.svg\" alt=\"Open In Colab\"/></a>"
      ]
    },
    {
      "cell_type": "code",
      "execution_count": null,
      "metadata": {
        "colab": {
          "base_uri": "https://localhost:8080/"
        },
        "id": "gFe8uFhBUyct",
        "outputId": "02ebc1bd-f455-46fa-fe87-e7508ce0a828"
      },
      "outputs": [
        {
          "output_type": "execute_result",
          "data": {
            "text/plain": [
              "4.7015725256021685"
            ]
          },
          "metadata": {},
          "execution_count": 13
        }
      ],
      "source": [
        "# завдання 1\n",
        "import math\n",
        "import numpy as np\n",
        "\n",
        "def f(x): # phi(x)\n",
        "    return np.sqrt(x+9) + 1\n",
        "\n",
        "def iteration(x0, epsilon, function):\n",
        "    x = function(x0)\n",
        "    while(np.abs(x - x0) > epsilon):\n",
        "        x0 = x\n",
        "        x = function(x)\n",
        "    return x\n",
        "\n",
        "x_iter = iteration(1, 0.0001, f)\n",
        "x_iter\n"
      ]
    },
    {
      "cell_type": "code",
      "source": [
        "# завдання 2\n",
        "import numpy as np\n",
        "\n",
        "A = [[36,-12,9],\n",
        "    [-12,29,12],\n",
        "    [9,12,27.5]]\n",
        "\n",
        "b = [-162,24,-90.5]\n",
        "\n",
        "def jacobi(A, b, epsilon):\n",
        "    A, b = np.array(A, dtype=float), np.array(b, dtype=float)\n",
        "    x_prev = np.zeros(b.shape, dtype=float)\n",
        "    x_curr = b / A.diagonal()\n",
        "    n_iter = 0\n",
        "    while np.linalg.norm(x_prev - x_curr) > epsilon:\n",
        "        x_prev = x_curr.copy()\n",
        "        for i in range(b.shape[0]):\n",
        "            x_curr[i] = x_prev[i] + (b[i] - np.multiply(A[i], x_prev).sum())/A[i, i]\n",
        "        n_iter += 1\n",
        "    return x_curr, n_iter\n",
        "x, iterations = jacobi(A, b, 0.001)\n",
        "print(\"x = {}, Кількість ітерацій: {}\".format(x, iterations))"
      ],
      "metadata": {
        "colab": {
          "base_uri": "https://localhost:8080/"
        },
        "id": "layT0pALVVY2",
        "outputId": "6b453fc2-a15e-4304-cb78-c22b484777ad"
      },
      "execution_count": null,
      "outputs": [
        {
          "output_type": "stream",
          "name": "stdout",
          "text": [
            "x = [-4.01281777 -0.01716183 -1.97047811], Кількість ітерацій: 19\n"
          ]
        }
      ]
    },
    {
      "cell_type": "code",
      "source": [
        "# завдання 3 (Лагранж)\n",
        "import numpy as np\n",
        "\n",
        "f = {}\n",
        "f[-1]=3.141592654\n",
        "f[-0.75]=2.418858406\n",
        "f[-0.5]=2.094395102\n",
        "f[-0.25]=1.823476582\n",
        "f[0]=1.570796327\n",
        "f[0.25]=1.318116072\n",
        "f[0.5]=1.047197551\n",
        "f[0.75]=0.7227342478\n",
        "f[1]=0\n",
        "\n",
        "def get_poly_values(poly_coefs, x):\n",
        "    power_matrix = x.reshape((-1, 1))**np.arange(poly_coefs.shape[1]).reshape((1, -1))\n",
        "    return power_matrix.dot(poly_coefs.reshape((-1, 1)))\n",
        "\n",
        "def lagrange(f_dict):\n",
        "    x = np.fromiter(f_dict.keys(), dtype=float)\n",
        "    f_x = np.fromiter(f_dict.values(), dtype=float)\n",
        "    res = np.zeros((1, x.shape[0]))\n",
        "    for k in range(x.shape[0]):\n",
        "        vec = None\n",
        "        for j in range(x.shape[0]):\n",
        "            if j == k:\n",
        "                continue\n",
        "            cur_vec = np.array([x[j] / (x[j] - x[k]), 1 / (x[k] - x[j])]).reshape((-1, 1))\n",
        "            if vec is None:\n",
        "                vec = cur_vec.reshape((1, -1))\n",
        "            else:\n",
        "                M = np.matmul(cur_vec, vec)\n",
        "                vec = np.zeros((1, vec.shape[1] + 1))\n",
        "                vec[0, :-1] += M[0]\n",
        "                vec[0, 1:] += M[1]\n",
        "        res += f_x[k] * vec\n",
        "    return res\n",
        "\n",
        "coefs = lagrange(f)\n",
        "get_poly_values(coefs, np.array([-0.85, -0.35, 0.35, 0.85]))"
      ],
      "metadata": {
        "colab": {
          "base_uri": "https://localhost:8080/"
        },
        "id": "w67AvCa1VsTV",
        "outputId": "b651f0b5-a595-4d1d-91e1-669a22e27fce"
      },
      "execution_count": null,
      "outputs": [
        {
          "output_type": "execute_result",
          "data": {
            "text/plain": [
              "array([[2.6156082 ],\n",
              "       [1.92929835],\n",
              "       [1.21229431],\n",
              "       [0.52598445]])"
            ]
          },
          "metadata": {},
          "execution_count": 28
        }
      ]
    },
    {
      "cell_type": "code",
      "source": [
        "# завдання 3 (Чебишова)\n",
        "import numpy as np\n",
        "\n",
        "f = np.array([2.967059728, 2.617993878, 2.268928027, 1.919862177, 1.570796327, 1.221730477, 0.8726646262, 0.5235987752, 0.1745329253])[::-1]\n",
        "\n",
        "x = np.array([-0.85, -0.35, 0.35, 0.85])\n",
        "\n",
        "def get_poly_values(poly_coefs, x):\n",
        "    power_matrix = x.reshape((-1, 1))**np.arange(poly_coefs.shape[1]).reshape((1, -1))\n",
        "    return power_matrix.dot(poly_coefs.reshape((-1, 1)))\n",
        "\n",
        "def get_coskj(N):\n",
        "    j_coefs = np.array([np.pi * (2*j+1) / (2*N+2) for j in range(N+1)]).reshape((1, -1))\n",
        "    kj = np.arange(N+1).reshape(-1, 1) * j_coefs\n",
        "    return np.cos(kj)\n",
        "\n",
        "def get_tk(N):\n",
        "    T = np.zeros((N+1, N+1))\n",
        "    T[0, 0] = 1\n",
        "    T[1, 1] = 1\n",
        "    for j in range(2, N+1):\n",
        "        T[j, 1:j+1] = 2 * T[j-1, :j]\n",
        "        T[j] -= T[j-2]\n",
        "    return T\n",
        "\n",
        "def cheb(f_values):\n",
        "    f_values = np.array(f_values).reshape((-1, 1))\n",
        "    N = f_values.shape[0] - 1\n",
        "    cos_kj = get_coskj(N)\n",
        "    a_k = np.matmul(cos_kj, f_values) # (n+1, 1)\n",
        "    tk = get_tk(N) # (n+1, n+1)\n",
        "    mm = np.matmul(tk.T, 2*a_k/(N+1))\n",
        "    coefs = np.zeros(N+1)\n",
        "    coefs[0] = a_k[0,0] / (N+1)\n",
        "    coefs[1:] = mm[1:,0]\n",
        "    return coefs\n",
        "\n",
        "cheb(f)\n",
        "get_poly_values(cheb(f).reshape((1, -1)), x)"
      ],
      "metadata": {
        "colab": {
          "base_uri": "https://localhost:8080/"
        },
        "id": "ofzLpHPCXAw7",
        "outputId": "3bae23d3-0747-46ee-bcb6-bab1de899069"
      },
      "execution_count": null,
      "outputs": [
        {
          "output_type": "execute_result",
          "data": {
            "text/plain": [
              "array([[2.58421506],\n",
              "       [1.92864467],\n",
              "       [1.21294798],\n",
              "       [0.55737759]])"
            ]
          },
          "metadata": {},
          "execution_count": 29
        }
      ]
    },
    {
      "cell_type": "code",
      "source": [
        "# завдання 4 метод прямокутників\n",
        "import numpy as np\n",
        "\n",
        "def f(x):\n",
        "    return 1/(x+2)\n",
        "def rectangles_method(function, a, b, n):\n",
        "    h = (b - a)/n\n",
        "    integral = 0\n",
        "    for i in range(n):\n",
        "        integral += function(a + h/2 + i*h)\n",
        "    return integral * h\n",
        "\n",
        "real_integral = np.log(1+2) - np.log(-1+2)\n",
        "print(\"Метод прямокутників: {}\".format(rectangles_method(f, -1, 1, 10)))\n",
        "print(\"Реально можлива похибка: {}\".format(np.abs(real_integral-rectangles_method(f, -1, 1, 10))))"
      ],
      "metadata": {
        "colab": {
          "base_uri": "https://localhost:8080/"
        },
        "id": "QSXY8mO_XScQ",
        "outputId": "61ebb48c-0e95-4dcd-c7fd-ef28b63fbc32"
      },
      "execution_count": null,
      "outputs": [
        {
          "output_type": "stream",
          "name": "stdout",
          "text": [
            "Метод прямокутників: 1.0971420940086145\n",
            "Реально можлива похибка: 0.001470194659495272\n"
          ]
        }
      ]
    },
    {
      "cell_type": "code",
      "source": [
        "# завдання 4 метод трапецій\n",
        "import numpy as np\n",
        "\n",
        "def f(x):\n",
        "    return 1/(x+2)\n",
        "def trapezoid_method(function, a, b, n):\n",
        "    h = (b - a)/n\n",
        "    integral = 0\n",
        "    for i in range(n):\n",
        "        integral += function(a + i*h) + function(a + (i+1)*h)\n",
        "    return integral * h / 2\n",
        "\n",
        "real_integral = np.log(1+2) - np.log(-1+2)\n",
        "print(\"Метод трапецій: {}\".format(trapezoid_method(f, -1, 1, 10)))\n",
        "print(\"Реально можлива похибка: {}\".format(np.abs(real_integral-trapezoid_method(f, -1, 1, 10))))"
      ],
      "metadata": {
        "colab": {
          "base_uri": "https://localhost:8080/"
        },
        "id": "Nw_nxN7QmoS4",
        "outputId": "224b4365-bfee-4fe2-e728-9a93601ee58f"
      },
      "execution_count": null,
      "outputs": [
        {
          "output_type": "stream",
          "name": "stdout",
          "text": [
            "Метод трапецій: 1.1015623265623267\n",
            "Реально можлива похибка: 0.0029500378942168837\n"
          ]
        }
      ]
    },
    {
      "cell_type": "code",
      "source": [
        "# завдання 4 метод Сімпсона\n",
        "import numpy as np\n",
        "\n",
        "def f(x):\n",
        "    return 1/(x+2)\n",
        "def simpson_method(function, a, b, n):\n",
        "    h = (b - a)/n\n",
        "    integral = 0\n",
        "    for i in range(n):\n",
        "        integral += function(a + i*h) + 4*function(a + i*h + h/2) + function(a + (i + 1)*h)\n",
        "    return integral * h / 6\n",
        "\n",
        "real_integral = np.log(1+2) - np.log(-1+2)\n",
        "print(\"Метод Сімпсона: {}\".format(simpson_method(f, -1, 1, 10)))\n",
        "print(\"Реально можлива похибка: {}\".format(np.abs(real_integral-simpson_method(f, -1, 1, 10))))"
      ],
      "metadata": {
        "colab": {
          "base_uri": "https://localhost:8080/"
        },
        "id": "NRQ56GH-n4cu",
        "outputId": "b0d8d2df-202d-4012-ba1d-a44d933fbfd6"
      },
      "execution_count": null,
      "outputs": [
        {
          "output_type": "stream",
          "name": "stdout",
          "text": [
            "Метод Сімпсона: 1.098615504859852\n",
            "Реально можлива похибка: 3.2161917422612873e-06\n"
          ]
        }
      ]
    }
  ]
}