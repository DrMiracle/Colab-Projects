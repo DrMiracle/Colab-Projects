{
  "nbformat": 4,
  "nbformat_minor": 0,
  "metadata": {
    "colab": {
      "provenance": [],
      "authorship_tag": "ABX9TyOgKDMnhZNrplnA8316epmZ",
      "include_colab_link": true
    },
    "kernelspec": {
      "name": "python3",
      "display_name": "Python 3"
    },
    "language_info": {
      "name": "python"
    }
  },
  "cells": [
    {
      "cell_type": "markdown",
      "metadata": {
        "id": "view-in-github",
        "colab_type": "text"
      },
      "source": [
        "<a href=\"https://colab.research.google.com/github/DrMiracle/Colab-Projects/blob/main/data%20analysis/Student's%20t%20test.ipynb\" target=\"_parent\"><img src=\"https://colab.research.google.com/assets/colab-badge.svg\" alt=\"Open In Colab\"/></a>"
      ]
    },
    {
      "cell_type": "code",
      "execution_count": null,
      "metadata": {
        "id": "hbwX-aJZRq_X"
      },
      "outputs": [],
      "source": [
        "import pandas as pd\n",
        "import numpy as np\n",
        "\n",
        "from scipy import stats\n",
        "\n",
        "import matplotlib.pyplot as plt"
      ]
    },
    {
      "cell_type": "code",
      "source": [
        "x = [22,25,27,27,30,32,33,34,35,36]\n",
        "y = [20, 21, 21, 23, 25, 25, 25,25, 27,27, 29,31]"
      ],
      "metadata": {
        "id": "CUSFRWusR0Yc"
      },
      "execution_count": null,
      "outputs": []
    },
    {
      "cell_type": "code",
      "source": [
        "n = len(x)\n",
        "m = len(y)\n",
        "\n",
        "p = plt.boxplot([x, y], labels = [\"X\", \"Y\"])"
      ],
      "metadata": {
        "colab": {
          "base_uri": "https://localhost:8080/",
          "height": 430
        },
        "id": "jaj5s47qTC5x",
        "outputId": "33785a99-640d-498d-a274-297cd913675c"
      },
      "execution_count": null,
      "outputs": [
        {
          "output_type": "display_data",
          "data": {
            "text/plain": [
              "<Figure size 640x480 with 1 Axes>"
            ],
            "image/png": "[encoded data removed]"
          },
          "metadata": {}
        }
      ]
    },
    {
      "cell_type": "code",
      "source": [
        "#t-критерій Стьюдента\n",
        "t, p = stats.ttest_ind(x, y)\n",
        "print(f't: {t:.3f}, p: {p:.3f}')\n",
        "\n",
        "if p < 0.05:\n",
        "  print(\"Reject H_0\")\n",
        "else:\n",
        "  print(\"Fail to reject H_0\")"
      ],
      "metadata": {
        "colab": {
          "base_uri": "https://localhost:8080/"
        },
        "id": "rVjQU2p9SQ6-",
        "outputId": "4e25ab17-a011-435f-e1d3-6491f0c30c52"
      },
      "execution_count": null,
      "outputs": [
        {
          "output_type": "stream",
          "name": "stdout",
          "text": [
            "t: 3.037, p: 0.007\n",
            "Reject H_0\n"
          ]
        }
      ]
    },
    {
      "cell_type": "code",
      "source": [
        "#Mann Whitney\n",
        "u, p = stats.mannwhitneyu(x, y)\n",
        "print(f'u: {u:.1f}, p: {p:.3f}')\n",
        "\n",
        "if p < 0.05:\n",
        "  print(\"Reject H_0\")\n",
        "else:\n",
        "  print(\"Fail to reject H_0\")"
      ],
      "metadata": {
        "colab": {
          "base_uri": "https://localhost:8080/"
        },
        "id": "t6H9GNi8Syeo",
        "outputId": "40d0f39c-85e0-4400-c2c5-67c1a248ed4d"
      },
      "execution_count": null,
      "outputs": [
        {
          "output_type": "stream",
          "name": "stdout",
          "text": [
            "u: 98.0, p: 0.013\n",
            "Reject H_0\n"
          ]
        }
      ]
    }
  ]
}