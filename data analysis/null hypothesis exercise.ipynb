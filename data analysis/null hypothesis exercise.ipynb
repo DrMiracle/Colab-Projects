{
  "nbformat": 4,
  "nbformat_minor": 0,
  "metadata": {
    "colab": {
      "provenance": [],
      "authorship_tag": "ABX9TyMBTlz0ZJ4Mn5R2BKIwwUHN",
      "include_colab_link": true
    },
    "kernelspec": {
      "name": "python3",
      "display_name": "Python 3"
    },
    "language_info": {
      "name": "python"
    }
  },
  "cells": [
    {
      "cell_type": "markdown",
      "metadata": {
        "id": "view-in-github",
        "colab_type": "text"
      },
      "source": [
        "<a href=\"https://colab.research.google.com/github/DrMiracle/Colab-Projects/blob/main/data%20analysis/null%20hypothesis%20exercise.ipynb\" target=\"_parent\"><img src=\"https://colab.research.google.com/assets/colab-badge.svg\" alt=\"Open In Colab\"/></a>"
      ]
    },
    {
      "cell_type": "code",
      "execution_count": null,
      "metadata": {
        "colab": {
          "base_uri": "https://localhost:8080/"
        },
        "id": "CiIYwVy_7zGB",
        "outputId": "6233d87b-0d43-48d6-e65e-f3d7bcd07250"
      },
      "outputs": [
        {
          "output_type": "execute_result",
          "data": {
            "text/plain": [
              "count    110.000000\n",
              "mean       0.593709\n",
              "std        0.171519\n",
              "min        0.206000\n",
              "25%        0.470250\n",
              "50%        0.601500\n",
              "75%        0.713000\n",
              "max        0.936000\n",
              "Name: var2, dtype: float64"
            ]
          },
          "metadata": {},
          "execution_count": 7
        }
      ],
      "source": [
        "import pandas as pd\n",
        "import numpy as np\n",
        "import matplotlib.pyplot as plot\n",
        "import scipy.stats\n",
        "from scipy import stats\n",
        "from scipy.stats import norm\n",
        "from scipy.stats import t\n",
        "import matplotlib.pyplot as plt\n",
        "\n",
        "df=pd.read_excel(\"ex 2.xlsx\")\n",
        "data = df['var2']\n",
        "data.describe()"
      ]
    },
    {
      "cell_type": "markdown",
      "source": [
        "Проблема в предметній области: Маємо показники випадковим чином взятих 110 гравців в FPS-грі, такі як k\\d, відсоток виграшів, хедшотів тощо, представлені на відрізку від 0 до 1, де 0 - гравець з найгіршими показниками в грі, 1 - гравець з найкращими. Відомо, що середній рівень показників в грі рівний 0.55. Перевірити, чи наша вибірка задовольняє цю умову.\n",
        "\n",
        "Н0: m = 0.55\n",
        "\n",
        "Н1: m ≠ 0.55"
      ],
      "metadata": {
        "id": "whdjnCTGXBlE"
      }
    },
    {
      "cell_type": "code",
      "source": [
        "data_mean = np.mean(data)\n",
        "print(\"Mean: \", data_mean)"
      ],
      "metadata": {
        "colab": {
          "base_uri": "https://localhost:8080/"
        },
        "id": "NhlYDhPEb4fG",
        "outputId": "095c69da-bbd7-406b-b0d8-73a02b5f00a2"
      },
      "execution_count": null,
      "outputs": [
        {
          "output_type": "stream",
          "name": "stdout",
          "text": [
            "Mean:  0.593709090909091\n"
          ]
        }
      ]
    },
    {
      "cell_type": "code",
      "source": [
        "x, loc, scale  =scipy.stats.distributions.t.fit(data)"
      ],
      "metadata": {
        "id": "dD0Vw585e8Bt"
      },
      "execution_count": null,
      "outputs": []
    },
    {
      "cell_type": "code",
      "source": [
        "Ox = np.linspace(-10,10,50)"
      ],
      "metadata": {
        "id": "D5q-S2xBe9J2"
      },
      "execution_count": null,
      "outputs": []
    },
    {
      "cell_type": "code",
      "source": [
        "t_fitted_proba = scipy.stats.distributions.t.pdf(Ox, 109, 0, 1)"
      ],
      "metadata": {
        "id": "toI8BD4bfTCS"
      },
      "execution_count": null,
      "outputs": []
    },
    {
      "cell_type": "code",
      "source": [
        "plt.subplots(figsize=(15,12))\n",
        "plt.plot(Ox,t_fitted_proba,'r')"
      ],
      "metadata": {
        "colab": {
          "base_uri": "https://localhost:8080/",
          "height": 717
        },
        "id": "eIC1QxyifTru",
        "outputId": "31c23394-a69c-457b-b7c4-125ccd0e4460"
      },
      "execution_count": null,
      "outputs": [
        {
          "output_type": "execute_result",
          "data": {
            "text/plain": [
              "[<matplotlib.lines.Line2D at 0x7f0d4cf661c0>]"
            ]
          },
          "metadata": {},
          "execution_count": 12
        },
        {
          "output_type": "display_data",
          "data": {
            "text/plain": [
              "<Figure size 1080x864 with 1 Axes>"
            ],
            "image/png": "[encoded data removed]"
          },
          "metadata": {
            "needs_background": "light"
          }
        }
      ]
    },
    {
      "cell_type": "code",
      "source": [
        "n=110\n",
        "sm=0.593709\n",
        "m=0.55\n",
        "sv=0.171519\n",
        "tt = (sm-m)/np.sqrt(sv/float(n))\n",
        "pval = stats.t.sf(np.abs(tt), n-1)\n",
        "print (tt, pval)"
      ],
      "metadata": {
        "colab": {
          "base_uri": "https://localhost:8080/"
        },
        "id": "Wf4KwUbwfVcn",
        "outputId": "d237a7d2-0ebe-4a60-c3af-e55534cde002"
      },
      "execution_count": null,
      "outputs": [
        {
          "output_type": "stream",
          "name": "stdout",
          "text": [
            "1.1069069012424835 0.13538551507576657\n"
          ]
        }
      ]
    },
    {
      "cell_type": "markdown",
      "source": [
        "Оскільки p-value не менша за 0.05, то ми не можемо відхилити гіпотезу."
      ],
      "metadata": {
        "id": "W86aPJzwszZo"
      }
    }
  ]
}