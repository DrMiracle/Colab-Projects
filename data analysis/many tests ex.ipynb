{
  "nbformat": 4,
  "nbformat_minor": 0,
  "metadata": {
    "colab": {
      "provenance": [],
      "authorship_tag": "ABX9TyMvPQWd6ySlIEd0sZjDaWzQ",
      "include_colab_link": true
    },
    "kernelspec": {
      "name": "python3",
      "display_name": "Python 3"
    },
    "language_info": {
      "name": "python"
    }
  },
  "cells": [
    {
      "cell_type": "markdown",
      "metadata": {
        "id": "view-in-github",
        "colab_type": "text"
      },
      "source": [
        "<a href=\"https://colab.research.google.com/github/DrMiracle/Colab-Projects/blob/main/data%20analysis/many%20tests%20ex.ipynb\" target=\"_parent\"><img src=\"https://colab.research.google.com/assets/colab-badge.svg\" alt=\"Open In Colab\"/></a>"
      ]
    },
    {
      "cell_type": "code",
      "execution_count": null,
      "metadata": {
        "id": "dXQ1tfFviwUv"
      },
      "outputs": [],
      "source": [
        "import pandas as pd\n",
        "import numpy as np\n",
        "import matplotlib.pyplot as plt\n",
        "import scipy.stats\n",
        "from scipy import stats\n",
        "from scipy.stats import norm\n",
        "from scipy.stats import t\n",
        "from scipy.stats import chi2_contingency\n",
        "import random,math"
      ]
    },
    {
      "cell_type": "code",
      "source": [
        "df=pd.read_excel(\"ex 2.xlsx\")\n",
        "data = df['var2']\n",
        "n = np.sum(range(len(data)))\n",
        "data,n"
      ],
      "metadata": {
        "colab": {
          "base_uri": "https://localhost:8080/"
        },
        "id": "W4_URj3rsfLk",
        "outputId": "83eee814-a8cd-4faa-87d4-a6f3cc23effc"
      },
      "execution_count": null,
      "outputs": [
        {
          "output_type": "execute_result",
          "data": {
            "text/plain": [
              "(0      0.662\n",
              " 1      0.468\n",
              " 2      0.430\n",
              " 3      0.296\n",
              " 4      0.597\n",
              "        ...  \n",
              " 105    0.767\n",
              " 106    0.527\n",
              " 107    0.609\n",
              " 108    0.803\n",
              " 109    0.651\n",
              " Name: var2, Length: 110, dtype: float64, 5995)"
            ]
          },
          "metadata": {},
          "execution_count": 2
        }
      ]
    },
    {
      "cell_type": "code",
      "source": [
        "a, sigma  =scipy.stats.distributions.norm.fit(data)\n",
        "ix = np.linspace(0,1,100)\n",
        "N_fitted_data = scipy.stats.distributions.norm.pdf(ix, a, sigma)\n",
        "plt.hist(data, density=True)\n",
        "plt.plot(ix,N_fitted_data,'g')"
      ],
      "metadata": {
        "colab": {
          "base_uri": "https://localhost:8080/",
          "height": 282
        },
        "id": "Wi2M3sBBuvx6",
        "outputId": "b2a1cac0-c1eb-4350-9cca-7b604a72ecd9"
      },
      "execution_count": null,
      "outputs": [
        {
          "output_type": "execute_result",
          "data": {
            "text/plain": [
              "[<matplotlib.lines.Line2D at 0x7f85a52b96d0>]"
            ]
          },
          "metadata": {},
          "execution_count": 8
        },
        {
          "output_type": "display_data",
          "data": {
            "text/plain": [
              "<Figure size 432x288 with 1 Axes>"
            ],
            "image/png": "[encoded data removed]"
          },
          "metadata": {
            "needs_background": "light"
          }
        }
      ]
    },
    {
      "cell_type": "code",
      "source": [
        "from statsmodels.graphics.gofplots import qqplot\n",
        "from matplotlib import pyplot\n",
        "qqplot(data, line='s')\n",
        "pyplot.show()"
      ],
      "metadata": {
        "colab": {
          "base_uri": "https://localhost:8080/",
          "height": 279
        },
        "id": "pLP6Sudou3pQ",
        "outputId": "0c2e92a0-b0c5-493c-87a8-a7d8af3bd9b8"
      },
      "execution_count": null,
      "outputs": [
        {
          "output_type": "display_data",
          "data": {
            "text/plain": [
              "<Figure size 432x288 with 1 Axes>"
            ],
            "image/png": "[encoded data removed]"
          },
          "metadata": {
            "needs_background": "light"
          }
        }
      ]
    },
    {
      "cell_type": "markdown",
      "source": [
        "Shapiro-Wilk Test. У якості статистики тесту обирається W=\n",
        "\\begin{align}\n",
        "W = \\frac{(\\sum_{i=1}^n a_ix_{(i)})^2}{\\sum_{i=1}^n (x_i-\\bar{x})^2}\n",
        "\\end{align}\n",
        "Критерій полягає у наступному: тестуємо нашу вибірку на умову(нульова гіпотеза), що вибірка розподілена нормально."
      ],
      "metadata": {
        "id": "5pgxGgjju8F2"
      }
    },
    {
      "cell_type": "code",
      "source": [
        "# code for Shapiro-Wilk Test\n",
        "from scipy.stats import shapiro\n",
        "stat, p = shapiro(data)\n",
        "print('stat W=%.3f, p=%.3f' % (stat, p))\n",
        "alpha = 0.05\n",
        "if p < alpha:\n",
        "\tprint('The null hypothesis can be rejected. Probably not Gaussian')\n",
        "else:\n",
        "\tprint('The null hypothesis cannot be rejected. Not enough evidence to say data is not normal. Probably Gaussian')\n",
        "\n"
      ],
      "metadata": {
        "colab": {
          "base_uri": "https://localhost:8080/"
        },
        "id": "xsE_Xj3hu5up",
        "outputId": "75e66bb9-0bc2-4b16-bf0a-bac01a5a8b2f"
      },
      "execution_count": null,
      "outputs": [
        {
          "output_type": "stream",
          "name": "stdout",
          "text": [
            "stat W=0.985, p=0.240\n",
            "The null hypothesis cannot be rejected. Not enough evidence to say data is not normal. Probably Gaussian\n"
          ]
        }
      ]
    },
    {
      "cell_type": "markdown",
      "source": [
        "D’Agostino’s K^2 Test. У якості статистики обирається дослідження ексцеси та асиметрії. K^2 Test рахує ексцесу та асиметрію заданої вибірки, потім порівнює з очікуваними значеннями(у випадку якщо вибірка нормально розподілена)."
      ],
      "metadata": {
        "id": "9rXhkB84vBIy"
      }
    },
    {
      "cell_type": "code",
      "source": [
        "# code for К'Test\n",
        "k2, p = scipy.stats.normaltest(data)\n",
        "alpha = 0.05\n",
        "print('stat K_2=%.3f, p=%.3f' % (k2, p))\n",
        "if p < alpha:  # null hypothesis: x comes from a normal distribution\n",
        "     print(\"The null hypothesis can be rejected. Probably not Gaussian\")\n",
        "else:\n",
        "     print(\"The null hypothesis cannot be rejected. Probably Gaussian\")"
      ],
      "metadata": {
        "colab": {
          "base_uri": "https://localhost:8080/"
        },
        "id": "FD_eeDrfvBkE",
        "outputId": "5717f69b-192d-495e-ea64-86462c1c804b"
      },
      "execution_count": null,
      "outputs": [
        {
          "output_type": "stream",
          "name": "stdout",
          "text": [
            "stat K_2=3.941, p=0.139\n",
            "The null hypothesis cannot be rejected. Probably Gaussian\n"
          ]
        }
      ]
    },
    {
      "cell_type": "markdown",
      "source": [
        "Далі застосуємо Тест Пірсона Хі-квадрат. Статистика використовує значення хі-квадрат, яке вимірює різницю між спостереженими та очікуваними частотами, використовуючи нульову гіпотезу."
      ],
      "metadata": {
        "id": "vt17ahqPvFTw"
      }
    },
    {
      "cell_type": "code",
      "source": [
        "#chisquare Pearson Test\n",
        "from scipy.stats import chisquare\n",
        "Statistics_Xi_2, p=chisquare(data)\n",
        "alpha = 0.05\n",
        "print('stat Xi_2=%.3f, p=%.3f' % (Statistics_Xi_2, p))\n",
        "if p < alpha:  # null hypothesis: x comes from a normal distribution\n",
        "     print(\"The null hypothesis can be rejected. Probably not Gaussian\")\n",
        "else:\n",
        "     print(\"The null hypothesis cannot be rejected. Probably Gaussian\")"
      ],
      "metadata": {
        "colab": {
          "base_uri": "https://localhost:8080/"
        },
        "id": "UUuelsiKvFpG",
        "outputId": "13af7d10-13af-4443-f376-bf2e1f18813d"
      },
      "execution_count": null,
      "outputs": [
        {
          "output_type": "stream",
          "name": "stdout",
          "text": [
            "stat Xi_2=5.401, p=1.000\n",
            "The null hypothesis cannot be rejected. Probably Gaussian\n"
          ]
        }
      ]
    },
    {
      "cell_type": "markdown",
      "source": [
        "Перевіримо гіпотезу вручну."
      ],
      "metadata": {
        "id": "8LB7AyXNvJ8d"
      }
    },
    {
      "cell_type": "code",
      "source": [
        "def normal_distribution(x):\n",
        "  return 1/np.sqrt(2*math.pi) * np.exp(-pow(x,2) / 2)"
      ],
      "metadata": {
        "id": "ftxtUXACvKgK"
      },
      "execution_count": null,
      "outputs": []
    },
    {
      "cell_type": "code",
      "source": [
        "mean = np.mean(data)\n",
        "var = np.var(data)\n",
        "std = np.std(data)\n",
        "mean, var, std"
      ],
      "metadata": {
        "colab": {
          "base_uri": "https://localhost:8080/"
        },
        "id": "MILkXiifvMUc",
        "outputId": "14a484fe-9ef3-4cdf-d3b7-0aa49cb93742"
      },
      "execution_count": null,
      "outputs": [
        {
          "output_type": "execute_result",
          "data": {
            "text/plain": [
              "(0.593709090909091, 0.029151260826446285, 0.17073740312669128)"
            ]
          },
          "metadata": {},
          "execution_count": 4
        }
      ]
    },
    {
      "cell_type": "code",
      "source": [
        "df=pd.read_excel(\"ex 2.xlsx\")\n",
        "verifying_data = np.sort(df['var2'])\n",
        "verifying_data"
      ],
      "metadata": {
        "id": "Ybz4Ispnv-gU",
        "colab": {
          "base_uri": "https://localhost:8080/"
        },
        "outputId": "dbc94ea4-3ef6-420f-cb51-6d5424e8717d"
      },
      "execution_count": null,
      "outputs": [
        {
          "output_type": "execute_result",
          "data": {
            "text/plain": [
              "array([0.206, 0.21 , 0.245, 0.277, 0.296, 0.332, 0.332, 0.344, 0.346,\n",
              "       0.355, 0.363, 0.365, 0.371, 0.375, 0.377, 0.384, 0.398, 0.399,\n",
              "       0.402, 0.412, 0.416, 0.425, 0.428, 0.43 , 0.434, 0.437, 0.455,\n",
              "       0.468, 0.477, 0.479, 0.491, 0.492, 0.503, 0.506, 0.513, 0.518,\n",
              "       0.522, 0.523, 0.527, 0.533, 0.543, 0.551, 0.552, 0.555, 0.562,\n",
              "       0.568, 0.573, 0.579, 0.58 , 0.588, 0.591, 0.593, 0.593, 0.597,\n",
              "       0.599, 0.604, 0.609, 0.61 , 0.611, 0.622, 0.63 , 0.633, 0.633,\n",
              "       0.635, 0.639, 0.65 , 0.651, 0.652, 0.654, 0.655, 0.658, 0.66 ,\n",
              "       0.66 , 0.662, 0.668, 0.671, 0.684, 0.686, 0.688, 0.691, 0.711,\n",
              "       0.713, 0.713, 0.716, 0.724, 0.729, 0.733, 0.737, 0.749, 0.763,\n",
              "       0.767, 0.777, 0.778, 0.793, 0.803, 0.819, 0.819, 0.824, 0.825,\n",
              "       0.831, 0.838, 0.844, 0.864, 0.864, 0.865, 0.88 , 0.881, 0.889,\n",
              "       0.917, 0.936])"
            ]
          },
          "metadata": {},
          "execution_count": 5
        }
      ]
    },
    {
      "cell_type": "code",
      "source": [
        "number_of_intervals = 8\n",
        "deviation = verifying_data[109]-verifying_data[0]\n",
        "interval_length = deviation / number_of_intervals\n",
        "deviation, interval_length"
      ],
      "metadata": {
        "colab": {
          "base_uri": "https://localhost:8080/"
        },
        "id": "hBTimo6AZiY1",
        "outputId": "6d1bfbaa-840b-435e-cd74-b058fcc89441"
      },
      "execution_count": null,
      "outputs": [
        {
          "output_type": "execute_result",
          "data": {
            "text/plain": [
              "(0.7300000000000001, 0.09125000000000001)"
            ]
          },
          "metadata": {},
          "execution_count": 6
        }
      ]
    },
    {
      "cell_type": "code",
      "source": [
        "intervals = []\n",
        "j = 0\n",
        "x_i = []\n",
        "for i in range(number_of_intervals):\n",
        "  start = verifying_data[j]\n",
        "  array = []\n",
        "  while j < len(verifying_data) and verifying_data[j] < start + interval_length:\n",
        "    array.append(verifying_data[j])\n",
        "    j += 1\n",
        "  intervals.append(array)\n",
        "  x_i.append(start + interval_length)"
      ],
      "metadata": {
        "id": "2srPUra-bbYq"
      },
      "execution_count": null,
      "outputs": []
    },
    {
      "cell_type": "code",
      "source": [
        "u_i = [(i- mean) / std for i in x_i]\n",
        "n_i = [len(interval) for interval in intervals]\n",
        "n_i_der = [len(verifying_data)*interval_length/std * normal_distribution(i) for i in u_i]"
      ],
      "metadata": {
        "id": "iGH4fhPOcKfp"
      },
      "execution_count": null,
      "outputs": []
    },
    {
      "cell_type": "code",
      "source": [
        "x_squared = 0\n",
        "for i in range(len(n_i_der)):\n",
        "  x_squared += (n_i[i] - n_i_der[i])**2 / n_i_der[i]\n",
        "x_squared"
      ],
      "metadata": {
        "colab": {
          "base_uri": "https://localhost:8080/"
        },
        "id": "cMzRUB6dcKki",
        "outputId": "a1f3ba14-2d81-40fd-9c69-d11668b71002"
      },
      "execution_count": null,
      "outputs": [
        {
          "output_type": "execute_result",
          "data": {
            "text/plain": [
              "21.011830531381513"
            ]
          },
          "metadata": {},
          "execution_count": 9
        }
      ]
    },
    {
      "cell_type": "markdown",
      "source": [
        "$x^2_{набл} = 21.01$ \\\\\n",
        "$x^2_{кр}(0.05,8) = 15.5$ \\\\\n",
        "Оскільки $x^2_{набл}$ > $x^2_{кр}$, то гіпотезу про нормальний розподіл сукупності відкидаємо.\n"
      ],
      "metadata": {
        "id": "xwybZ8c5f98b"
      }
    }
  ]
}