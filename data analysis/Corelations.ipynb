{
  "nbformat": 4,
  "nbformat_minor": 0,
  "metadata": {
    "colab": {
      "provenance": [],
      "include_colab_link": true
    },
    "kernelspec": {
      "name": "python3",
      "display_name": "Python 3"
    }
  },
  "cells": [
    {
      "cell_type": "markdown",
      "metadata": {
        "id": "view-in-github",
        "colab_type": "text"
      },
      "source": [
        "<a href=\"https://colab.research.google.com/github/DrMiracle/Colab-Projects/blob/main/data%20analysis/Corelations.ipynb\" target=\"_parent\"><img src=\"https://colab.research.google.com/assets/colab-badge.svg\" alt=\"Open In Colab\"/></a>"
      ]
    },
    {
      "cell_type": "markdown",
      "metadata": {
        "id": "Y5hxQE22WWw8"
      },
      "source": [
        "Lesson 6. Кореляційний аналіз."
      ]
    },
    {
      "cell_type": "markdown",
      "metadata": {
        "id": "_8R_4DPhFIfA"
      },
      "source": [
        "1) Знайти вибіркові коефіцієнту кореляції Пірсона, Спірмена та Кенделла\n",
        "та перевірити їхню значущість за допомогою параметричного критерію Пірсона та непараметричних Спірмена та Кенделла\n",
        "(без застосування бібліотек і вбудованих статистичних функцій Пайтон)."
      ]
    },
    {
      "cell_type": "code",
      "metadata": {
        "id": "zpQDeK-hc1pP"
      },
      "source": [
        "#Завантажити Pandas і інші бібліотеки\n",
        "\n",
        "import pandas as pd\n",
        "from scipy import stats as scp\n",
        "import seaborn as sns\n",
        "import numpy as np\n",
        "import matplotlib.pyplot as plt\n",
        "from scipy import stats,special\n",
        "from scipy.stats import rankdata"
      ],
      "execution_count": null,
      "outputs": []
    },
    {
      "cell_type": "code",
      "metadata": {
        "id": "kCtrjKAFqNRu"
      },
      "source": [
        "def pearson_correlation_coefficient(x, y):\n",
        "    x_mean = np.mean(x)\n",
        "    y_mean = np.mean(y)\n",
        "\n",
        "    numerator = np.sum((x - x_mean) * (y - y_mean))\n",
        "    denominator = np.sqrt(np.sum((x - x_mean)**2) * np.sum((y - y_mean)**2))\n",
        "\n",
        "    pearson_coefficient = numerator / denominator\n",
        "\n",
        "    return pearson_coefficient\n",
        "\n",
        "\n",
        "\n",
        "def spearman_correlation(x, y):\n",
        "    # знаходимо ранги x та y\n",
        "    x_r, y_r = rankdata(x), rankdata(y)\n",
        "    n = len(x_r)\n",
        "    d = x_r-y_r\n",
        "    spearman_coef = 1 - (6*np.sum(np.power(d,2))) / (pow(n,3) - n)\n",
        "    return spearman_coef\n",
        "\n",
        "\n",
        "\n",
        "\n",
        "def kendall_correlation(x, y):\n",
        "    concordant_pairs = 0\n",
        "    discordant_pairs = 0\n",
        "    tied_pairs = 0\n",
        "    n = len(x)\n",
        "\n",
        "    for i in range(n):\n",
        "        for j in range(i + 1, n):\n",
        "            if (x[i] < x[j] and y[i] > y[j]) or (x[i] > x[j] and y[i] < y[j]):\n",
        "                discordant_pairs += 1\n",
        "            elif (x[i] < x[j] and y[i] < y[j]) or (x[i] > x[j] and y[i] > y[j]):\n",
        "                concordant_pairs += 1\n",
        "            else:\n",
        "                tied_pairs += 1\n",
        "\n",
        "    tau = (concordant_pairs - discordant_pairs) / (concordant_pairs + discordant_pairs + tied_pairs)\n",
        "    return tau"
      ],
      "execution_count": null,
      "outputs": []
    },
    {
      "cell_type": "code",
      "metadata": {
        "id": "uxkd7xCk-I_o"
      },
      "source": [
        "#Завантажити дані вручну\n",
        "X=[0.175012517, 0.609466403, 0.33029121, 0.274633703, 0.440709745, 0.248305927, 0.240182283, 0.639456487, 0.556898594, 0.316551976]\n",
        "Y=[16.47572727, 11.43350814, 16.7740103, 14.89011765, 8.306046302, 12.968077, 10.63474984, 17.36047008, 13.5475515, 7.110423335]"
      ],
      "execution_count": null,
      "outputs": []
    },
    {
      "cell_type": "code",
      "metadata": {
        "id": "oQpXFCjJaY8B",
        "colab": {
          "base_uri": "https://localhost:8080/"
        },
        "outputId": "b18d6619-5672-49b8-e8f9-e58a40c8770a"
      },
      "source": [
        "pearson_r = pearson_correlation_coefficient(X, Y)\n",
        "spearman_r = spearman_correlation(X, Y)\n",
        "kendall_r = kendall_correlation(X, Y)\n",
        "\n",
        "print(\"Pearson correlation coefficient: {:.4f}\".format(pearson_r))\n",
        "print(\"Spearman correlation coefficient: {:.4f}\".format(spearman_r))\n",
        "print(\"Kendall correlation coefficient: {:.4f}\".format(kendall_r))"
      ],
      "execution_count": null,
      "outputs": [
        {
          "output_type": "stream",
          "name": "stdout",
          "text": [
            "Pearson correlation coefficient: 0.0364\n",
            "Spearman correlation coefficient: 0.1394\n",
            "Kendall correlation coefficient: 0.1111\n"
          ]
        }
      ]
    },
    {
      "cell_type": "code",
      "metadata": {
        "id": "axcxfeuoIbpU",
        "colab": {
          "base_uri": "https://localhost:8080/"
        },
        "outputId": "99e41303-5fb2-440c-aaa5-d74bee211eab"
      },
      "source": [
        "n = len(X)\n",
        "alpha = 0.05\n",
        "\n",
        "t_pearson = pearson_r * np.sqrt(n - 2) / np.sqrt(1 - pearson_r**2)\n",
        "t_spearman = spearman_r *  np.sqrt(1 - spearman_r**2)/ np.sqrt(n - 2)\n",
        "t_kendall = kendall_r * np.sqrt(2 * (2 * n + 5) / (9 * n * (n - 1)))\n",
        "\n",
        "critical_value_pearson = 0.632\n",
        "critical_value_spearman = 0.643\n",
        "critical_value_kendall = 0.571\n",
        "\n",
        "is_significant_pearson = abs(t_pearson) > critical_value_pearson\n",
        "is_significant_spearman = abs(t_spearman) > critical_value_spearman\n",
        "is_significant_kendall = abs(t_kendall) > critical_value_kendall\n",
        "\n",
        "print(\"Pearson test statistic: t = {:.2f}, is significant: {}\".format(t_pearson, is_significant_pearson))\n",
        "print(\"Spearman test statistic: t = {:.2f}, is significant: {}\".format(t_spearman, is_significant_spearman))\n",
        "print(\"Kendall test statistic: t = {:.2f}, is significant: {}\".format(t_kendall, is_significant_kendall))"
      ],
      "execution_count": null,
      "outputs": [
        {
          "output_type": "stream",
          "name": "stdout",
          "text": [
            "Pearson test statistic: t = 0.10, is significant: False\n",
            "Spearman test statistic: t = 0.05, is significant: False\n",
            "Kendall test statistic: t = 0.03, is significant: False\n"
          ]
        }
      ]
    },
    {
      "cell_type": "markdown",
      "source": [
        "2) Застосувати спеціалізовані бібліотеки Пайтон для знаходження коефіцієнту кореляції Пірсона, Спірмена та Кенделла."
      ],
      "metadata": {
        "id": "NGy7c_Ma7GiT"
      }
    },
    {
      "cell_type": "code",
      "metadata": {
        "id": "eJk3PIrqszfo",
        "colab": {
          "base_uri": "https://localhost:8080/"
        },
        "outputId": "e54308f5-64b4-4650-c50b-c170cbe9ab3e"
      },
      "source": [
        "# визначимо коефіцієнти кореляції Пірсона, Спірмена, Кендала (через бібліотеку stats)\n",
        "def correlation_stats(a, b):\n",
        "    corr, pval = scp.pearsonr(a, b)\n",
        "    print(\"Pearson's correlation coefficient = \" + str(corr) + \", pvalue = \" + str(pval))\n",
        "\n",
        "    corr, pval = scp.spearmanr(a,b)\n",
        "    print(\"Spearman's correlation coefficient = \" + str(corr) + \", pvalue = \" + str(pval))\n",
        "\n",
        "    corr, pval = scp.kendalltau(a,b)\n",
        "    print(\"Kendall's correlation coefficient = \" + str(corr) + \", pvalue = \" + str(pval))\n",
        "\n",
        "# знайдемо кореляцію\n",
        "correlation_stats(X, Y)"
      ],
      "execution_count": null,
      "outputs": [
        {
          "output_type": "stream",
          "name": "stdout",
          "text": [
            "Pearson's correlation coefficient = 0.03638147610199767, pvalue = 0.9205207763522465\n",
            "Spearman's correlation coefficient = 0.13939393939393938, pvalue = 0.7009318849100584\n",
            "Kendall's correlation coefficient = 0.1111111111111111, pvalue = 0.7274895282186948\n"
          ]
        }
      ]
    }
  ]
}