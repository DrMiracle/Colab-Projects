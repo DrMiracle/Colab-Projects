{
  "nbformat": 4,
  "nbformat_minor": 0,
  "metadata": {
    "colab": {
      "provenance": [],
      "authorship_tag": "ABX9TyPaoJR4n29rEcggZKcAnOKw",
      "include_colab_link": true
    },
    "kernelspec": {
      "name": "python3",
      "display_name": "Python 3"
    },
    "language_info": {
      "name": "python"
    }
  },
  "cells": [
    {
      "cell_type": "markdown",
      "metadata": {
        "id": "view-in-github",
        "colab_type": "text"
      },
      "source": [
        "<a href=\"https://colab.research.google.com/github/DrMiracle/Colab-Projects/blob/main/data%20analysis/ex%208.ipynb\" target=\"_parent\"><img src=\"https://colab.research.google.com/assets/colab-badge.svg\" alt=\"Open In Colab\"/></a>"
      ]
    },
    {
      "cell_type": "code",
      "source": [
        "import numpy as np\n",
        "\n",
        "#18.11"
      ],
      "metadata": {
        "id": "tkMNvxiyJGYD"
      },
      "execution_count": null,
      "outputs": []
    },
    {
      "cell_type": "markdown",
      "source": [
        "$H_0:\\xi \\sim  Poisson(lamb)$"
      ],
      "metadata": {
        "id": "P-plZyd9EqLV"
      }
    },
    {
      "cell_type": "code",
      "source": [
        "sample = np.array([112, 168, 130, 69, 32, 5, 1, 1, 0])\n",
        "n = np.sum(sample)\n",
        "\n",
        "def poisson(x, lamb):\n",
        "  return (np.exp(-lamb)*lamb**x)/np.math.factorial(x)"
      ],
      "metadata": {
        "id": "HEtHa41hEweZ"
      },
      "execution_count": null,
      "outputs": []
    },
    {
      "cell_type": "markdown",
      "source": [
        "$L(\\lambda) = (e^{-n\\lambda}*\\lambda^{\\sum x_i})/\\prod x_i!$\n",
        "\n",
        "$l(\\lambda) = log(L(\\lambda)) = -n\\lambda + log(\\lambda)*\\sum x_i + log(\\prod x_i!)$\n",
        "\n",
        "$max(l(\\lambda)) ⇒ \\lambda = 1.54$"
      ],
      "metadata": {
        "id": "9gFtEuksEw1W"
      }
    },
    {
      "cell_type": "code",
      "source": [
        "lamb = 1.54\n",
        "probability_x = np.zeros(9)\n",
        "\n",
        "for i in range(8):\n",
        "  probability_x[i] = poisson(i, 1.54)\n",
        "\n",
        "probability_x[8] = (1-np.sum(probability_x))\n",
        "\n",
        "npr = probability_x*n\n",
        "d = np.sum(((npr - sample)**2)/npr)\n",
        "\n",
        "print(\"D(F, G) = {} < 20.3\".format(d))"
      ],
      "metadata": {
        "colab": {
          "base_uri": "https://localhost:8080/"
        },
        "id": "gFhYmVurJR56",
        "outputId": "d295c6f4-610a-455c-851c-8493bc325c17"
      },
      "execution_count": null,
      "outputs": [
        {
          "output_type": "stream",
          "name": "stdout",
          "text": [
            "D(F, G) = 3.9284661551021096 < 20.3\n"
          ]
        }
      ]
    },
    {
      "cell_type": "markdown",
      "source": [
        "Нульову гіпотезу не відхиляємо."
      ],
      "metadata": {
        "id": "-iivPs4WJaV9"
      }
    },
    {
      "cell_type": "code",
      "source": [
        "#18.29"
      ],
      "metadata": {
        "id": "xHL-SBOdJei3"
      },
      "execution_count": null,
      "outputs": []
    },
    {
      "cell_type": "markdown",
      "source": [
        "\\begin{gather}{H_0:\\xi \\sim f(x)}\\end{gather}\n",
        "\n",
        "\\begin{equation}\n",
        "  f(x)=\\begin{cases}\n",
        "    9/16, & \\text{if $x = 0$}.\\\\\n",
        "    3/16, & \\text{if $x = 1$}.\\\\\n",
        "    3/16, & \\text{if $x = 2$}.\\\\\n",
        "    1/16, & \\text{if $x = 3$}.\n",
        "  \\end{cases}\n",
        "\\end{equation}"
      ],
      "metadata": {
        "id": "BdkPR2SbJjPX"
      }
    },
    {
      "cell_type": "code",
      "source": [
        "sample = np.array([315, 101, 108, 32])\n",
        "probability_x = np.array([9/16, 3/16, 3/16, 1/16])\n",
        "\n",
        "n = np.sum(sample)\n",
        "\n",
        "npr = probability_x*n\n",
        "d = np.sum(((npr - sample)**2)/npr)\n",
        "\n",
        "print(\"D(F, G) = {} < 12.8\".format(d))"
      ],
      "metadata": {
        "colab": {
          "base_uri": "https://localhost:8080/"
        },
        "id": "-Z4uuahCJ2Qw",
        "outputId": "886e12f7-bab2-4ac0-834e-ae6179a1c087"
      },
      "execution_count": null,
      "outputs": [
        {
          "output_type": "stream",
          "name": "stdout",
          "text": [
            "D(F, G) = 0.4700239808153477 < 12.8\n"
          ]
        }
      ]
    },
    {
      "cell_type": "markdown",
      "source": [
        "Нульову гіпотезу не відхиляємо."
      ],
      "metadata": {
        "id": "XQ5nr31uJ7sm"
      }
    }
  ]
}